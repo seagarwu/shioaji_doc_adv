{
 "cells": [
  {
   "cell_type": "markdown",
   "metadata": {},
   "source": [
    "[![Open In Colab](https://colab.research.google.com/assets/colab-badge.svg)](https://colab.research.google.com/github/seagarwu/mynotebooks/blob/main/shioaji/shioaji_onlinedoc/shioaji-order-stock.ipynb)"
   ]
  },
  {
   "cell_type": "markdown",
   "metadata": {},
   "source": [
    "# Stock"
   ]
  },
  {
   "cell_type": "markdown",
   "metadata": {},
   "source": [
    "## Place Order\n",
    "[Stock place order jupyter link](https://nbviewer.jupyter.org/github/Sinotrade/Sinotrade.github.io/blob/master/tutorial/stock.ipynb)"
   ]
  },
  {
   "cell_type": "markdown",
   "metadata": {},
   "source": [
    "### First, you need to [login](shioaji-quick_start.ipynb) and [activate CA](shioaji-order-ca_signature.ipynb)."
   ]
  },
  {
   "cell_type": "code",
   "execution_count": 8,
   "metadata": {},
   "outputs": [
    {
     "name": "stdout",
     "output_type": "stream",
     "text": [
      "Response Code: 0 | Event Code: 0 | Info: host '203.66.91.161:80', hostname '203.66.91.161:80' IP 203.66.91.161:80 (host 1 of 1) (host connection attempt 1 of 1) (total connection attempt 1 of 1) | Event: Session up\n"
     ]
    }
   ],
   "source": [
    "import shioaji as sj\n",
    "import getpass as gp\n",
    "\n",
    "api = sj.Shioaji()\n",
    "user_id, user_pass = gp.getpass(\"USER ID: \"), gp.getpass(\"USER PASS: \")\n",
    "accounts = api.login(user_id, user_pass)"
   ]
  },
  {
   "cell_type": "code",
   "execution_count": 9,
   "metadata": {
    "id": "qWf5tBzxat8F",
    "outputId": "318558d3-1886-4b9d-c0c5-53e0710d4bb8"
   },
   "outputs": [
    {
     "data": {
      "text/plain": [
       "True"
      ]
     },
     "execution_count": 9,
     "metadata": {},
     "output_type": "execute_result"
    }
   ],
   "source": [
    "import tkinter as tk\n",
    "from tkinter import filedialog\n",
    "\n",
    "root = tk.Tk()\n",
    "root.withdraw()\n",
    "file_path = filedialog.askopenfilename()\n",
    "\n",
    "api.activate_ca(\n",
    "    ca_path = file_path,\n",
    "    ca_passwd = user_pass,\n",
    "    person_id = user_id,\n",
    ")"
   ]
  },
  {
   "cell_type": "markdown",
   "metadata": {},
   "source": [
    "### Get Contract Object."
   ]
  },
  {
   "cell_type": "code",
   "execution_count": 11,
   "metadata": {},
   "outputs": [
    {
     "data": {
      "text/plain": [
       "Stock(exchange=<Exchange.TSE: 'TSE'>, code='2330', symbol='TSE2330', name='台積電', category='24', unit=1000, limit_up=578.0, limit_down=473.5, reference=526.0, update_date='2022/04/28', margin_trading_balance=1368, short_selling_balance=308, day_trade=<DayTrade.Yes: 'Yes'>)"
      ]
     },
     "execution_count": 11,
     "metadata": {},
     "output_type": "execute_result"
    }
   ],
   "source": [
    "contract = api.Contracts.Stocks.TSE.TSE2330\n",
    "contract"
   ]
  },
  {
   "cell_type": "markdown",
   "metadata": {},
   "source": [
    "### Making Order Object.\n",
    "\n",
    "在發送委託單前，要先產生一個Order物件。<br>\n",
    "Order物件建立的參數說明如下：\n",
    "\n",
    "|參數|參數說明|參數範例|\n",
    "|:----|:----|:----|\n",
    "|price|委託價格|18.5|\n",
    "|quantity|委託數量|1|\n",
    "|action|委託單動作|{Buy, Sell}|\n",
    "|price_type|價格類型|{LMT, MKT, MKP} (限價、市價、範圍市價)|\n",
    "|order_type|委託單類型|{ROD, IOC, FOK} (當日有效、立即成交否則取消、全部成交否則取消)|\n",
    "|order_cond|委託單種類|{Cash, MarginTrading, ShortSelling} (現股、融資、融券)|\n",
    "|order_lot|委託單交易單位|{Common, Fixing, Odd, IntradayOdd} (整股、盤後定價、盤後零股、盤中零股)|\n",
    "|first_sell|是否為現沖先賣|{true, false}|\n",
    "|octype|倉別|{Auto, NewPosition, Cover, DayTrade} (自動、新倉、平倉、當沖)|\n",
    "|OptionRight|選擇權類別|{Call, Put}|\n",
    "|account|交易帳戶|可由API取得account物件|\n",
    "\n",
    "> <br>order_cond、order_lot及first_sell，為股票Order物件特有屬性<br>\n",
    "> octype，為期貨或選擇權Order物件特有屬性<br>\n",
    "> OptionRight為選擇權Order物件特有屬性"
   ]
  },
  {
   "cell_type": "markdown",
   "metadata": {},
   "source": [
    "#### Buy 現股買進"
   ]
  },
  {
   "cell_type": "code",
   "execution_count": 10,
   "metadata": {},
   "outputs": [
    {
     "data": {
      "text/plain": [
       "Order(action=<Action.Buy: 'Buy'>, price=12, quantity=1, price_type=<StockPriceType.LMT: 'LMT'>, order_type=<FuturesOrderType.ROD: 'ROD'>)"
      ]
     },
     "execution_count": 10,
     "metadata": {},
     "output_type": "execute_result"
    }
   ],
   "source": [
    "order = api.Order(\n",
    "    price=12, \n",
    "    quantity=1, \n",
    "    action=sj.constant.Action.Buy,  # 現股買進\n",
    "    price_type=sj.constant.StockPriceType.LMT, \n",
    "    order_type=sj.constant.TFTOrderType.ROD, \n",
    "    order_lot=sj.constant.TFTStockOrderLot.Common, \n",
    "    account=api.stock_account\n",
    ")\n",
    "order"
   ]
  },
  {
   "cell_type": "markdown",
   "metadata": {},
   "source": [
    "#### Sell 現股賣出"
   ]
  },
  {
   "cell_type": "code",
   "execution_count": 7,
   "metadata": {},
   "outputs": [
    {
     "data": {
      "text/plain": [
       "Order(action=<Action.Sell: 'Sell'>, price=12, quantity=1, price_type=<StockPriceType.LMT: 'LMT'>, order_type=<FuturesOrderType.ROD: 'ROD'>)"
      ]
     },
     "execution_count": 7,
     "metadata": {},
     "output_type": "execute_result"
    }
   ],
   "source": [
    "order = api.Order(\n",
    "    price=12, \n",
    "    quantity=1, \n",
    "    action=sj.constant.Action.Sell,  # 現股賣出\n",
    "    price_type=sj.constant.StockPriceType.LMT, \n",
    "    order_type=sj.constant.TFTOrderType.ROD, \n",
    "    order_lot=sj.constant.TFTStockOrderLot.Common, \n",
    "    account=api.stock_account\n",
    ")\n",
    "order"
   ]
  },
  {
   "cell_type": "markdown",
   "metadata": {},
   "source": [
    "#### First Sell 現沖先賣"
   ]
  },
  {
   "cell_type": "code",
   "execution_count": 8,
   "metadata": {},
   "outputs": [
    {
     "data": {
      "text/plain": [
       "Order(action=<Action.Sell: 'Sell'>, price=12, quantity=1, price_type=<StockPriceType.LMT: 'LMT'>, order_type=<FuturesOrderType.ROD: 'ROD'>, first_sell=<StockFirstSell.Yes: 'true'>)"
      ]
     },
     "execution_count": 8,
     "metadata": {},
     "output_type": "execute_result"
    }
   ],
   "source": [
    "order = api.Order(\n",
    "    price=12, \n",
    "    quantity=1, \n",
    "    action=sj.constant.Action.Sell,\n",
    "    price_type=sj.constant.StockPriceType.LMT,\n",
    "    order_type=sj.constant.TFTOrderType.ROD,\n",
    "    order_lot=sj.constant.TFTStockOrderLot.Common,\n",
    "    first_sell=sj.constant.StockFirstSell.Yes,  #現沖先賣，設定為StockFirstSell.Yes or True\n",
    "    account=api.stock_account\n",
    ")\n",
    "order"
   ]
  },
  {
   "cell_type": "markdown",
   "metadata": {},
   "source": [
    "#### 盤中零股買進"
   ]
  },
  {
   "cell_type": "code",
   "execution_count": 3,
   "metadata": {},
   "outputs": [
    {
     "data": {
      "text/plain": [
       "Order(action=<Action.Buy: 'Buy'>, price=12, quantity=1, price_type=<StockPriceType.LMT: 'LMT'>, order_type=<FuturesOrderType.ROD: 'ROD'>, order_lot=<TFTStockOrderLot.IntradayOdd: 'IntradayOdd'>)"
      ]
     },
     "execution_count": 3,
     "metadata": {},
     "output_type": "execute_result"
    }
   ],
   "source": [
    "order = api.Order(\n",
    "    price=12, \n",
    "    quantity=1, \n",
    "    action=sj.constant.Action.Buy, #買進\n",
    "    price_type=sj.constant.StockPriceType.LMT, \n",
    "    order_type=sj.constant.TFTOrderType.ROD, \n",
    "    order_lot=sj.constant.TFTStockOrderLot.IntradayOdd, #指定盤中零股\n",
    "    account=api.stock_account\n",
    ")\n",
    "order"
   ]
  },
  {
   "cell_type": "markdown",
   "metadata": {},
   "source": [
    "#### 盤後定價買進"
   ]
  },
  {
   "cell_type": "code",
   "execution_count": 4,
   "metadata": {},
   "outputs": [
    {
     "data": {
      "text/plain": [
       "Order(action=<Action.Buy: 'Buy'>, price=12, quantity=1, price_type=<StockPriceType.LMT: 'LMT'>, order_type=<FuturesOrderType.ROD: 'ROD'>, order_lot=<TFTStockOrderLot.Fixing: 'Fixing'>)"
      ]
     },
     "execution_count": 4,
     "metadata": {},
     "output_type": "execute_result"
    }
   ],
   "source": [
    "order = api.Order(\n",
    "    price=12, \n",
    "    quantity=1, \n",
    "    action=sj.constant.Action.Buy, #買進\n",
    "    price_type=sj.constant.StockPriceType.LMT, \n",
    "    order_type=sj.constant.TFTOrderType.ROD, \n",
    "    order_lot=sj.constant.TFTStockOrderLot.Fixing, #指定盤後定價\n",
    "    account=api.stock_account\n",
    ")\n",
    "order"
   ]
  },
  {
   "cell_type": "markdown",
   "metadata": {},
   "source": [
    "#### 盤後零股買進"
   ]
  },
  {
   "cell_type": "code",
   "execution_count": 5,
   "metadata": {},
   "outputs": [
    {
     "data": {
      "text/plain": [
       "Order(action=<Action.Buy: 'Buy'>, price=12, quantity=1, price_type=<StockPriceType.LMT: 'LMT'>, order_type=<FuturesOrderType.ROD: 'ROD'>, order_lot=<TFTStockOrderLot.Odd: 'Odd'>)"
      ]
     },
     "execution_count": 5,
     "metadata": {},
     "output_type": "execute_result"
    }
   ],
   "source": [
    "order = api.Order(\n",
    "    price=12, \n",
    "    quantity=1, \n",
    "    action=sj.constant.Action.Buy, #買進\n",
    "    price_type=sj.constant.StockPriceType.LMT, \n",
    "    order_type=sj.constant.TFTOrderType.ROD, \n",
    "    order_lot=sj.constant.TFTStockOrderLot.Odd, #指定盤後零股\n",
    "    account=api.stock_account\n",
    ")\n",
    "order"
   ]
  },
  {
   "cell_type": "markdown",
   "metadata": {},
   "source": [
    "以上為現股Order的建立及下單相關操作，若是要使用融資或融券，只要在建立Order時指定order_cond為StockOrderCond.MarginTrading(融資)或是StockOrderCond.ShortSelling(融券)即可；若在建立Order時沒有指定order_cond，預設都是以StockOrderCond.Cash建立。"
   ]
  },
  {
   "cell_type": "markdown",
   "metadata": {},
   "source": [
    "#### Order Object"
   ]
  },
  {
   "cell_type": "markdown",
   "metadata": {},
   "source": [
    "> <details><summary>Attributes:</summary>\n",
    ">\n",
    "> price (float or int): the price of order<br>\n",
    "> quantity (int): the quantity of order<br>\n",
    "> action (str): order action to buy or sell<br>\n",
    ">     {Buy, Sell}<br>\n",
    "> price_type (str): pricing type of order<br>\n",
    ">     {LMT, MKT, MKP} (限價、市價、範圍市價)<br>\n",
    "> order_type (str): the type of order<br>\n",
    ">     {ROD, IOC, FOK}<br>\n",
    "> order_cond (str): order condition stock only<br>\n",
    ">     {Cash, MarginTrading, ShortSelling} (現股、融資、融券)<br>\n",
    "> order_lot (str): the type of order<br>\n",
    ">     {Common, Fixing, Odd, IntradayOdd} (整股、定盤、盤後零股、盤中零股)<br>\n",
    "> first_sell {str}: the type of first sell<br>\n",
    ">     {true, false}<br>\n",
    "> account (:obj:Account): which account to place this order<br>\n",
    "> ca (binary): the ca of this order<br>\n",
    "</details>"
   ]
  },
  {
   "cell_type": "markdown",
   "metadata": {},
   "source": [
    "### Place Order"
   ]
  },
  {
   "cell_type": "code",
   "execution_count": null,
   "metadata": {},
   "outputs": [],
   "source": [
    "# 會實際下單(證券)，請小心! (但我沒有證券帳號，所以下單會error!)\n",
    "trade = api.place_order(contract, order)\n",
    "trade"
   ]
  },
  {
   "cell_type": "markdown",
   "metadata": {},
   "source": [
    "## For Example"
   ]
  },
  {
   "cell_type": "markdown",
   "metadata": {},
   "source": [
    "### Place Order ROD LMT"
   ]
  },
  {
   "cell_type": "code",
   "execution_count": null,
   "metadata": {},
   "outputs": [],
   "source": [
    "# 會實際下單(證券)，請小心! (但我沒有證券帳號，所以下單會error!)\n",
    "contract = api.Contracts.Stocks.TSE.TSE2330\n",
    "order = api.Order(\n",
    "    price=12,\n",
    "    quantity=1,\n",
    "    action=sj.constant.Action.Buy,\n",
    "    price_type=sj.constant.StockPriceType.LMT,\n",
    "    order_type=sj.constant.TFTOrderType.ROD,\n",
    "    account=api.stock_account\n",
    ")\n",
    "trade = api.place_order(contract, order)\n",
    "trade"
   ]
  },
  {
   "cell_type": "markdown",
   "metadata": {},
   "source": [
    "### Place Order about First Sell"
   ]
  },
  {
   "cell_type": "code",
   "execution_count": null,
   "metadata": {},
   "outputs": [],
   "source": [
    "# 會實際下單(證券)，請小心! (但我沒有證券帳號，所以下單會error!)\n",
    "contract = api.Contracts.Stocks.TSE.TSE2330\n",
    "order = api.Order(\n",
    "    price=14,\n",
    "    quantity=1,\n",
    "    action=sj.constant.Action.Sell,\n",
    "    price_type=sj.constant.StockPriceType.LMT,\n",
    "    order_type=sj.constant.TFTOrderType.ROD,\n",
    "    first_sell=sj.constant.StockFirstSell.Yes,\n",
    "    account=api.stock_account\n",
    ")\n",
    "trade = api.place_order(contract, order)\n",
    "trade"
   ]
  },
  {
   "cell_type": "markdown",
   "metadata": {},
   "source": [
    "> **Status of Trade**<br>\n",
    "\n",
    "> PendingSubmit: 傳送中<br>\n",
    "> PreSubmitted: 預約單<br>\n",
    "> Submitted: 傳送成功<br>\n",
    "> Failed: 失敗<br>\n",
    "> Cancelled: 已刪除<br>\n",
    "> Filled: 完全成交<br>\n",
    "> Filling: 部分成交<br>"
   ]
  },
  {
   "cell_type": "markdown",
   "metadata": {},
   "source": [
    "### Cancel Order"
   ]
  },
  {
   "cell_type": "code",
   "execution_count": null,
   "metadata": {},
   "outputs": [
    {
     "name": "stdout",
     "output_type": "stream",
     "text": [
      "OrderState.FOrderOrderState.FOrder {'operation': {'op_type': 'New', 'op_code': '99QB', 'op_msg': '超過交易額度     0萬,請至E櫃檯或易利得3380調整'}, 'order': {'id': '1f92361d', 'seqno': '331991', 'ordno': '00', 'account': {'account_type': 'F', 'person_id': '', 'broker_id': 'F002002', 'account_id': '8070913', 'signed': True}, 'action': 'Buy', 'price': 10200.0, 'quantity': 1, 'order_type': 'ROD', 'price_type': 'LMT', 'market_type': 'Night', 'oc_type': 'New', 'subaccount': '', 'combo': False}, 'status': {'id': '1f92361d', 'exchange_ts': 1651080172, 'modified_price': 0.0, 'cancel_quantity': 0, 'order_quantity': 1, 'web_id': 'Z'}, 'contract': {'security_type': 'FUT', 'code': 'MXF', 'exchange': 'TIM', 'delivery_month': '202205', 'delivery_date': '', 'strike_price': 0.0, 'option_right': 'Future'}}\n",
      " {'operation': {'op_type': 'New', 'op_code': '99QB', 'op_msg': '超過交易額度     0萬,請至E櫃檯或易利得3380調整'}, 'order': {'id': '1f92361d', 'seqno': '331991', 'ordno': '00', 'account': {'account_type': 'F', 'person_id': '', 'broker_id': 'F002002', 'account_id': '8070913', 'signed': True}, 'action': 'Buy', 'price': 10200.0, 'quantity': 1, 'order_type': 'ROD', 'price_type': 'LMT', 'market_type': 'Night', 'oc_type': 'New', 'subaccount': '', 'combo': False}, 'status': {'id': '1f92361d', 'exchange_ts': 1651080172, 'modified_price': 0.0, 'cancel_quantity': 0, 'order_quantity': 1, 'web_id': 'Z'}, 'contract': {'security_type': 'FUT', 'code': 'MXF', 'exchange': 'TIM', 'delivery_month': '202205', 'delivery_date': '', 'strike_price': 0.0, 'option_right': 'Future'}}\n"
     ]
    }
   ],
   "source": [
    "api.update_status(api.stock_account)\n",
    "api.cancel_order(trade)\n",
    "api.update_status(api.stock_account)\n",
    "trade"
   ]
  },
  {
   "cell_type": "markdown",
   "metadata": {},
   "source": [
    "### Update Order"
   ]
  },
  {
   "cell_type": "code",
   "execution_count": null,
   "metadata": {},
   "outputs": [],
   "source": [
    "api.update_status(api.stock_account)\n",
    "api.update_order(trade=trade, price=12, qty=2)\n",
    "api.update_status(api.stock_account)\n",
    "trade"
   ]
  },
  {
   "cell_type": "markdown",
   "metadata": {},
   "source": [
    "---\n",
    "### Prev: [Order / CA Signature](shioaji-order-ca_signature.ipynb) Next: [Order / Future and Option](shioaji-order-future_and_option.ipynb)"
   ]
  }
 ],
 "metadata": {
  "interpreter": {
   "hash": "43e799a8c0c25cc01ad6496af7769d603e839830943cc4ee57aeca70952c0fbd"
  },
  "kernelspec": {
   "display_name": "Python 3.7.12 ('python3.7')",
   "language": "python",
   "name": "python3"
  },
  "language_info": {
   "codemirror_mode": {
    "name": "ipython",
    "version": 3
   },
   "file_extension": ".py",
   "mimetype": "text/x-python",
   "name": "python",
   "nbconvert_exporter": "python",
   "pygments_lexer": "ipython3",
   "version": "3.7.12"
  },
  "orig_nbformat": 4
 },
 "nbformat": 4,
 "nbformat_minor": 2
}
