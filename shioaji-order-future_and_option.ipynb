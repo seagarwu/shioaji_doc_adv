{
 "cells": [
  {
   "cell_type": "markdown",
   "metadata": {},
   "source": [
    "[![Open In Colab](https://colab.research.google.com/assets/colab-badge.svg)](https://colab.research.google.com/github/seagarwu/mynotebooks/blob/main/shioaji/shioaji_onlinedoc/shioaji-order-future_and_option.ipynb)"
   ]
  },
  {
   "cell_type": "markdown",
   "metadata": {},
   "source": [
    "# Future and Option"
   ]
  },
  {
   "cell_type": "markdown",
   "metadata": {},
   "source": [
    "## Place Order\n",
    "[Future and Option place order jupyter link](https://nbviewer.org/github/Sinotrade/Sinotrade.github.io/blob/master/tutorial/future_and_option.ipynb)"
   ]
  },
  {
   "cell_type": "markdown",
   "metadata": {},
   "source": [
    "### First, you need to [login](shioaji-quick_start.ipynb) and [activate CA](shioaji-order-ca_signature.ipynb)."
   ]
  },
  {
   "cell_type": "code",
   "execution_count": 1,
   "metadata": {},
   "outputs": [
    {
     "name": "stdout",
     "output_type": "stream",
     "text": [
      "Response Code: 0 | Event Code: 0 | Info: host '203.66.91.161:80', hostname '203.66.91.161:80' IP 203.66.91.161:80 (host 1 of 1) (host connection attempt 1 of 1) (total connection attempt 1 of 1) | Event: Session up\n"
     ]
    }
   ],
   "source": [
    "import shioaji as sj\n",
    "import getpass as gp\n",
    "\n",
    "api = sj.Shioaji()\n",
    "user_id, user_pass = gp.getpass(\"USER ID: \"), gp.getpass(\"USER PASS: \")\n",
    "accounts = api.login(user_id, user_pass)"
   ]
  },
  {
   "cell_type": "code",
   "execution_count": 2,
   "metadata": {
    "id": "qWf5tBzxat8F",
    "outputId": "318558d3-1886-4b9d-c0c5-53e0710d4bb8"
   },
   "outputs": [
    {
     "data": {
      "text/plain": [
       "True"
      ]
     },
     "execution_count": 2,
     "metadata": {},
     "output_type": "execute_result"
    }
   ],
   "source": [
    "import tkinter as tk\n",
    "from tkinter import filedialog\n",
    "\n",
    "root = tk.Tk()\n",
    "root.withdraw()\n",
    "file_path = filedialog.askopenfilename()\n",
    "\n",
    "api.activate_ca(\n",
    "    ca_path = file_path,\n",
    "    ca_passwd = user_pass,\n",
    "    person_id = user_id,\n",
    ")"
   ]
  },
  {
   "cell_type": "code",
   "execution_count": 15,
   "metadata": {},
   "outputs": [
    {
     "name": "stdout",
     "output_type": "stream",
     "text": [
      "person_id='R120732106' broker_id='F002002' account_id='8071378' signed=True username='吳鼎榮'\n"
     ]
    }
   ],
   "source": [
    "# futures default account\n",
    "api.set_default_account(accounts[2])\n",
    "print(api.futopt_account)"
   ]
  },
  {
   "cell_type": "markdown",
   "metadata": {},
   "source": [
    "### Get Contract Object."
   ]
  },
  {
   "cell_type": "code",
   "execution_count": 3,
   "metadata": {},
   "outputs": [],
   "source": [
    "contract = api.Contracts.Futures.MXF.MXF202205"
   ]
  },
  {
   "cell_type": "markdown",
   "metadata": {},
   "source": [
    "### Making Order Object."
   ]
  },
  {
   "cell_type": "markdown",
   "metadata": {},
   "source": [
    "#### Buy"
   ]
  },
  {
   "cell_type": "code",
   "execution_count": 17,
   "metadata": {},
   "outputs": [
    {
     "data": {
      "text/plain": [
       "Order(action=<Action.Buy: 'Buy'>, price=15000, quantity=1, account=FutureAccount(person_id='R120732106', broker_id='F002002', account_id='8071378', signed=True, username='吳鼎榮'), price_type=<StockPriceType.LMT: 'LMT'>, order_type=<FuturesOrderType.ROD: 'ROD'>)"
      ]
     },
     "execution_count": 17,
     "metadata": {},
     "output_type": "execute_result"
    }
   ],
   "source": [
    "order = api.Order(action=sj.constant.Action.Buy,\n",
    "                  price=15000,\n",
    "                  quantity=1,\n",
    "                  price_type=sj.constant.StockPriceType.LMT,\n",
    "                  order_type=sj.constant.FuturesOrderType.ROD, \n",
    "                  octype=sj.constant.FuturesOCType.Auto,\n",
    "                  account=api.futopt_account)\n",
    "order"
   ]
  },
  {
   "cell_type": "markdown",
   "metadata": {},
   "source": [
    "#### Order Object"
   ]
  },
  {
   "cell_type": "markdown",
   "metadata": {},
   "source": [
    "> <details><summary>Attributes:</summary>\n",
    ">\n",
    "> price (float or int): the price of order<br>\n",
    "> quantity (int): the quantity of order<br>\n",
    "> action (str): order action to buy or sell<br>\n",
    ">     {Buy, Sell}<br>\n",
    "> price_type (str): pricing type of order<br>\n",
    ">     {LMT, MKT, MKP} (限價、市價、範圍市價)<br>\n",
    "> order_type (str): the type of order<br>\n",
    ">     {ROD, IOC, FOK}<br>\n",
    "> octype (str): the type or order to open new position or close position future only<br>\n",
    ">     {Auto, NewPosition, Cover, DayTrade} (自動、新倉、平倉、當沖)<br>\n",
    "> account (:obj:Account): which account to place this order<br>\n",
    "> ca (binary): the ca of this order<br>\n",
    "</details>"
   ]
  },
  {
   "cell_type": "markdown",
   "metadata": {},
   "source": [
    "### Place Order"
   ]
  },
  {
   "cell_type": "code",
   "execution_count": 26,
   "metadata": {},
   "outputs": [
    {
     "name": "stdout",
     "output_type": "stream",
     "text": [
      "OrderState.FOrder"
     ]
    },
    {
     "data": {
      "text/plain": [
       "Trade(contract=Future(code='MXFE2', symbol='MXF202205', name='小型臺指05', category='MXF', delivery_month='202205', delivery_date='2022/05/18', underlying_kind='I', unit=1, limit_up=18026.0, limit_down=14750.0, reference=16388.0, update_date='2022/04/29'), order=Order(action=<Action.Buy: 'Buy'>, price=15000, quantity=1, id='848421d1', seqno='358746', account=Account(account_type=<AccountType.Future: 'F'>, person_id='R120732106', broker_id='F002002', account_id='8071378', signed=True), price_type=<StockPriceType.LMT: 'LMT'>, order_type=<FuturesOrderType.ROD: 'ROD'>), status=OrderStatus(id='848421d1', status=<Status.PendingSubmit: 'PendingSubmit'>, status_code='    ', order_datetime=datetime.datetime(2022, 4, 29, 12, 23, 44), deals=[]))"
      ]
     },
     "execution_count": 26,
     "metadata": {},
     "output_type": "execute_result"
    },
    {
     "name": "stdout",
     "output_type": "stream",
     "text": [
      " {'operation': {'op_type': 'New', 'op_code': '00', 'op_msg': ''}, 'order': {'id': '848421d1', 'seqno': '358746', 'ordno': 't00ZW', 'account': {'account_type': 'F', 'person_id': '', 'broker_id': 'F002002', 'account_id': '8071378', 'signed': True}, 'action': 'Buy', 'price': 15000.0, 'quantity': 1, 'order_type': 'ROD', 'price_type': 'LMT', 'market_type': 'Day', 'oc_type': 'New', 'subaccount': '', 'combo': False}, 'status': {'id': '848421d1', 'exchange_ts': 1651206225, 'modified_price': 0.0, 'cancel_quantity': 0, 'order_quantity': 1, 'web_id': 'Z'}, 'contract': {'security_type': 'FUT', 'code': 'MXF', 'exchange': 'TIM', 'delivery_month': '202205', 'delivery_date': '', 'strike_price': 0.0, 'option_right': 'Future'}}\n"
     ]
    }
   ],
   "source": [
    "# 會實際下單(期貨)，請小心!\n",
    "trade = api.place_order(contract, order)\n",
    "trade"
   ]
  },
  {
   "cell_type": "markdown",
   "metadata": {},
   "source": [
    "> **Status of Trade**<br>\n",
    "\n",
    "> PendingSubmit: 傳送中<br>\n",
    "> PreSubmitted: 預約單<br>\n",
    "> Submitted: 傳送成功<br>\n",
    "> Failed: 失敗<br>\n",
    "> Cancelled: 已刪除<br>\n",
    "> Filled: 完全成交<br>\n",
    "> Filling: 部分成交<br>"
   ]
  },
  {
   "cell_type": "markdown",
   "metadata": {},
   "source": [
    "## For Example"
   ]
  },
  {
   "cell_type": "markdown",
   "metadata": {},
   "source": [
    "### Place Order ROD LMT"
   ]
  },
  {
   "cell_type": "code",
   "execution_count": null,
   "metadata": {},
   "outputs": [],
   "source": [
    "# 會實際下單(期貨)，請小心!\n",
    "contract = api.Contracts.Futures.MXF.MXF202205\n",
    "order = api.Order(action=sj.constant.Action.Buy,\n",
    "                  price=10200,\n",
    "                  quantity=1,\n",
    "                  price_type=sj.constant.StockPriceType.LMT,\n",
    "                  order_type=sj.constant.FuturesOrderType.ROD,  \n",
    "                  octype=sj.constant.FuturesOCType.Auto,\n",
    "                  account=api.futopt_account)\n",
    "trade = api.place_order(contract, order)\n",
    "trade"
   ]
  },
  {
   "cell_type": "markdown",
   "metadata": {},
   "source": [
    "### Cancel Order"
   ]
  },
  {
   "cell_type": "code",
   "execution_count": 19,
   "metadata": {},
   "outputs": [
    {
     "data": {
      "text/plain": [
       "Trade(contract=Future(code='MXFE2', symbol='MXF202205', name='小型臺指05', category='MXF', delivery_month='202205', delivery_date='2022/05/18', underlying_kind='I', unit=1, limit_up=18026.0, limit_down=14750.0, reference=16388.0, update_date='2022/04/29'), order=Order(action=<Action.Buy: 'Buy'>, price=15000.0, quantity=1, id='ab9c47a8', seqno='358498', ordno='t00ZF', account=Account(account_type=<AccountType.Future: 'F'>, person_id='R120732106', broker_id='F002002', account_id='8071378', signed=True), price_type=<StockPriceType.LMT: 'LMT'>, order_type=<FuturesOrderType.ROD: 'ROD'>, octype=<FuturesOCType.New: 'New'>), status=OrderStatus(id='ab9c47a8', status=<Status.Submitted: 'Submitted'>, status_code='0000', web_id='Z', order_datetime=datetime.datetime(2022, 4, 29, 12, 17, 30), modified_price=15000.0, deals=[]))"
      ]
     },
     "execution_count": 19,
     "metadata": {},
     "output_type": "execute_result"
    },
    {
     "name": "stdout",
     "output_type": "stream",
     "text": [
      "OrderState.FOrder {'operation': {'op_type': 'Cancel', 'op_code': '00', 'op_msg': ''}, 'order': {'id': 'ab9c47a8', 'seqno': '358498', 'ordno': 't00ZF', 'account': {'account_type': 'F', 'person_id': '', 'broker_id': 'F002002', 'account_id': '8071378', 'signed': True}, 'action': 'Buy', 'price': 15000.0, 'quantity': 1, 'order_type': 'ROD', 'price_type': 'CXL', 'market_type': 'Day', 'oc_type': 'New', 'subaccount': '', 'combo': False}, 'status': {'id': 'ab9c47a8', 'exchange_ts': 1651205900, 'modified_price': 0.0, 'cancel_quantity': 1, 'order_quantity': 1, 'web_id': 'Z'}, 'contract': {'security_type': 'FUT', 'code': 'MXF', 'exchange': 'TIM', 'delivery_month': '202205', 'delivery_date': '', 'strike_price': 0.0, 'option_right': 'Future'}}\n"
     ]
    }
   ],
   "source": [
    "api.update_status(api.futopt_account)\n",
    "api.cancel_order(trade)\n",
    "api.update_status(api.futopt_account)\n",
    "trade"
   ]
  },
  {
   "cell_type": "markdown",
   "metadata": {},
   "source": [
    "### Update Order"
   ]
  },
  {
   "cell_type": "code",
   "execution_count": 27,
   "metadata": {},
   "outputs": [
    {
     "name": "stdout",
     "output_type": "stream",
     "text": [
      "OrderState.FOrder {'operation': {'op_type': 'UpdatePrice', 'op_code': '00', 'op_msg': ''}, 'order': {'id': '848421d1', 'seqno': '358746', 'ordno': 't00ZW', 'account': {'account_type': 'F', 'person_id': '', 'broker_id': 'F002002', 'account_id': '8071378', 'signed': True}, 'action': 'Buy', 'price': 15001.0, 'quantity': 1, 'order_type': 'ROD', 'price_type': 'UPL', 'market_type': 'Day', 'oc_type': 'New', 'subaccount': '', 'combo': False}, 'status': {'id': '848421d1', 'exchange_ts': 1651206248, 'modified_price': 15001.0, 'cancel_quantity': 0, 'order_quantity': 1, 'web_id': 'Z'}, 'contract': {'security_type': 'FUT', 'code': 'MXF', 'exchange': 'TIM', 'delivery_month': '202205', 'delivery_date': '', 'strike_price': 0.0, 'option_right': 'Future'}}\n"
     ]
    },
    {
     "data": {
      "text/plain": [
       "Trade(contract=Future(code='MXFE2', symbol='MXF202205', name='小型臺指05', category='MXF', delivery_month='202205', delivery_date='2022/05/18', underlying_kind='I', unit=1, limit_up=18026.0, limit_down=14750.0, reference=16388.0, update_date='2022/04/29'), order=Order(action=<Action.Buy: 'Buy'>, price=15000.0, quantity=1, id='848421d1', seqno='358746', ordno='t00ZW', account=Account(account_type=<AccountType.Future: 'F'>, person_id='R120732106', broker_id='F002002', account_id='8071378', signed=True), price_type=<StockPriceType.LMT: 'LMT'>, order_type=<FuturesOrderType.ROD: 'ROD'>, octype=<FuturesOCType.New: 'New'>), status=OrderStatus(id='848421d1', status=<Status.Cancelled: 'Cancelled'>, status_code='0000', web_id='Z', order_datetime=datetime.datetime(2022, 4, 29, 12, 23, 45), modified_price=15001.0, cancel_quantity=1, deals=[]))"
      ]
     },
     "execution_count": 27,
     "metadata": {},
     "output_type": "execute_result"
    },
    {
     "name": "stdout",
     "output_type": "stream",
     "text": [
      "OrderState.FOrder {'operation': {'op_type': 'UpdateQty', 'op_code': '00', 'op_msg': ''}, 'order': {'id': '848421d1', 'seqno': '358746', 'ordno': 't00ZW', 'account': {'account_type': 'F', 'person_id': '', 'broker_id': 'F002002', 'account_id': '8071378', 'signed': True}, 'action': 'Buy', 'price': 15001.0, 'quantity': 1, 'order_type': 'ROD', 'price_type': 'UPD', 'market_type': 'Day', 'oc_type': 'New', 'subaccount': '', 'combo': False}, 'status': {'id': '848421d1', 'exchange_ts': 1651206249, 'modified_price': 0.0, 'cancel_quantity': 1, 'order_quantity': 1, 'web_id': 'Z'}, 'contract': {'security_type': 'FUT', 'code': 'MXF', 'exchange': 'TIM', 'delivery_month': '202205', 'delivery_date': '', 'strike_price': 0.0, 'option_right': 'Future'}}\n"
     ]
    }
   ],
   "source": [
    "api.update_status(api.futopt_account)\n",
    "api.update_order(trade=trade, price=15001, qty=1) # 實測只能改量，不能改價\n",
    "api.update_status(api.futopt_account)\n",
    "trade"
   ]
  },
  {
   "cell_type": "markdown",
   "metadata": {},
   "source": [
    "---\n",
    "### Prev: [Order / Stock](shioaji-order-stock.ipynb) Next: [Order / Intraday Odd](shioaji-order-intraday_odd.ipynb)"
   ]
  }
 ],
 "metadata": {
  "interpreter": {
   "hash": "43e799a8c0c25cc01ad6496af7769d603e839830943cc4ee57aeca70952c0fbd"
  },
  "kernelspec": {
   "display_name": "Python 3.7.12 ('python3.7')",
   "language": "python",
   "name": "python3"
  },
  "language_info": {
   "codemirror_mode": {
    "name": "ipython",
    "version": 3
   },
   "file_extension": ".py",
   "mimetype": "text/x-python",
   "name": "python",
   "nbconvert_exporter": "python",
   "pygments_lexer": "ipython3",
   "version": "3.7.12"
  },
  "orig_nbformat": 4
 },
 "nbformat": 4,
 "nbformat_minor": 2
}
