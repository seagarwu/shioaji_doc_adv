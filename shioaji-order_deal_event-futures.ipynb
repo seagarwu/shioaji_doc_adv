{
 "cells": [
  {
   "cell_type": "markdown",
   "metadata": {},
   "source": [
    "[![Open In Colab](https://colab.research.google.com/assets/colab-badge.svg)](https://colab.research.google.com/github/seagarwu/mynotebooks/blob/main/shioaji/shioaji_onlinedoc/shioaji-order_deal_event-futures.ipynb)"
   ]
  },
  {
   "cell_type": "markdown",
   "metadata": {},
   "source": [
    "# Futures"
   ]
  },
  {
   "cell_type": "markdown",
   "metadata": {},
   "source": [
    "## Order Event\n",
    "Order event occurs when you place order, cancel order and update order. It will return an `OrderState` base on your action. Let's take a look at order event."
   ]
  },
  {
   "cell_type": "code",
   "execution_count": 1,
   "metadata": {},
   "outputs": [
    {
     "name": "stdout",
     "output_type": "stream",
     "text": [
      "Response Code: 0 | Event Code: 0 | Info: host '203.66.91.161:80', hostname '203.66.91.161:80' IP 203.66.91.161:80 (host 1 of 1) (host connection attempt 1 of 1) (total connection attempt 1 of 1) | Event: Session up\n"
     ]
    }
   ],
   "source": [
    "import shioaji as sj\n",
    "import getpass as gp\n",
    "\n",
    "api = sj.Shioaji()\n",
    "user_id, user_pass = gp.getpass(\"USER ID: \"), gp.getpass(\"USER PASS: \")\n",
    "accounts = api.login(user_id, user_pass)"
   ]
  },
  {
   "cell_type": "code",
   "execution_count": 3,
   "metadata": {
    "id": "qWf5tBzxat8F",
    "outputId": "318558d3-1886-4b9d-c0c5-53e0710d4bb8"
   },
   "outputs": [
    {
     "data": {
      "text/plain": [
       "True"
      ]
     },
     "execution_count": 3,
     "metadata": {},
     "output_type": "execute_result"
    }
   ],
   "source": [
    "import tkinter as tk\n",
    "from tkinter import filedialog\n",
    "\n",
    "root = tk.Tk()\n",
    "root.withdraw()\n",
    "file_path = filedialog.askopenfilename()\n",
    "\n",
    "api.activate_ca(\n",
    "    ca_path = file_path,\n",
    "    ca_passwd = user_pass,\n",
    "    person_id = user_id,\n",
    ")"
   ]
  },
  {
   "cell_type": "code",
   "execution_count": 5,
   "metadata": {},
   "outputs": [
    {
     "name": "stdout",
     "output_type": "stream",
     "text": [
      "person_id='R120732106' broker_id='F002002' account_id='8071378' signed=True username='吳鼎榮'\n"
     ]
    }
   ],
   "source": [
    "# futures default account\n",
    "api.set_default_account(accounts[2])\n",
    "print(api.futopt_account)"
   ]
  },
  {
   "cell_type": "markdown",
   "metadata": {},
   "source": [
    "### Place Order"
   ]
  },
  {
   "cell_type": "code",
   "execution_count": 7,
   "metadata": {},
   "outputs": [
    {
     "data": {
      "text/plain": [
       "Trade(contract=Future(code='MXFE2', symbol='MXF202205', name='小型臺指05', category='MXF', delivery_month='202205', delivery_date='2022/05/18', underlying_kind='I', unit=1, limit_up=18239.0, limit_down=14923.0, reference=16581.0, update_date='2022/05/03'), order=Order(action=<Action.Sell: 'Sell'>, price=17000, quantity=1, id='808c97cc', seqno='423666', account=Account(account_type=<AccountType.Future: 'F'>, person_id='R120732106', broker_id='F002002', account_id='8071378', signed=True), price_type=<StockPriceType.LMT: 'LMT'>, order_type=<FuturesOrderType.ROD: 'ROD'>), status=OrderStatus(id='808c97cc', status=<Status.PendingSubmit: 'PendingSubmit'>, status_code='    ', order_datetime=datetime.datetime(2022, 5, 4, 1, 8, 31), deals=[]))"
      ]
     },
     "execution_count": 7,
     "metadata": {},
     "output_type": "execute_result"
    },
    {
     "name": "stdout",
     "output_type": "stream",
     "text": [
      "OrderState.FOrder {'operation': {'op_type': 'New', 'op_code': '00', 'op_msg': ''}, 'order': {'id': '808c97cc', 'seqno': '423666', 'ordno': 'tA0ME', 'account': {'account_type': 'F', 'person_id': '', 'broker_id': 'F002002', 'account_id': '8071378', 'signed': True}, 'action': 'Sell', 'price': 17000.0, 'quantity': 1, 'order_type': 'ROD', 'price_type': 'LMT', 'market_type': 'Night', 'oc_type': 'New', 'subaccount': '', 'combo': False}, 'status': {'id': '808c97cc', 'exchange_ts': 1651511311, 'modified_price': 0.0, 'cancel_quantity': 0, 'order_quantity': 1, 'web_id': 'Z'}, 'contract': {'security_type': 'FUT', 'code': 'MXF', 'exchange': 'TIM', 'delivery_month': '202205', 'delivery_date': '', 'strike_price': 0.0, 'option_right': 'Future'}}\n",
      "OrderState.FOrder {'operation': {'op_type': 'Cancel', 'op_code': '00', 'op_msg': ''}, 'order': {'id': '808c97cc', 'seqno': '423666', 'ordno': 'tA0ME', 'account': {'account_type': 'F', 'person_id': '', 'broker_id': 'F002002', 'account_id': '8071378', 'signed': True}, 'action': 'Sell', 'price': 17000.0, 'quantity': 1, 'order_type': 'ROD', 'price_type': 'CXL', 'market_type': 'Night', 'oc_type': 'New', 'subaccount': '', 'combo': False}, 'status': {'id': '808c97cc', 'exchange_ts': 1651511320, 'modified_price': 0.0, 'cancel_quantity': 1, 'order_quantity': 1, 'web_id': 'I'}, 'contract': {'security_type': 'FUT', 'code': 'MXF', 'exchange': 'TIM', 'delivery_month': '202205', 'delivery_date': '', 'strike_price': 0.0, 'option_right': 'Future'}}\n"
     ]
    }
   ],
   "source": [
    "# 會實際下單，請小心操作!\n",
    "contract = api.Contracts.Futures.MXF['MXF202205']\n",
    "order = api.Order(\n",
    "    action='Sell',\n",
    "    price=17000,\n",
    "    quantity=1,\n",
    "    price_type='LMT',\n",
    "    order_type='ROD', \n",
    "    octype=sj.constant.FuturesOCType.Auto,\n",
    "    account=api.futopt_account\n",
    ")\n",
    "trade = api.place_order(contract, order)\n",
    "trade"
   ]
  },
  {
   "cell_type": "markdown",
   "metadata": {},
   "source": [
    "> op_type: operation type<br>\n",
    "> op_code: \"00\": success, others: fail<br>\n",
    "> op_msg: \"\" if succsess else it will show error message<br>"
   ]
  },
  {
   "cell_type": "markdown",
   "metadata": {},
   "source": [
    "### Set order callback"
   ]
  },
  {
   "cell_type": "code",
   "execution_count": 8,
   "metadata": {},
   "outputs": [],
   "source": [
    "def place_cb(stat, msg):\n",
    "    print('__my_place_callback__')\n",
    "    print(stat, msg)\n",
    "\n",
    "api.set_order_callback(place_cb)"
   ]
  },
  {
   "cell_type": "code",
   "execution_count": 12,
   "metadata": {},
   "outputs": [
    {
     "data": {
      "text/plain": [
       "Trade(contract=Future(code='MXFE2', symbol='MXF202205', name='小型臺指05', category='MXF', delivery_month='202205', delivery_date='2022/05/18', underlying_kind='I', unit=1, limit_up=18239.0, limit_down=14923.0, reference=16581.0, update_date='2022/05/03'), order=Order(action=<Action.Sell: 'Sell'>, price=17000, quantity=1, id='dbd1502f', seqno='423739', account=Account(account_type=<AccountType.Future: 'F'>, person_id='R120732106', broker_id='F002002', account_id='8071378', signed=True), price_type=<StockPriceType.LMT: 'LMT'>, order_type=<FuturesOrderType.ROD: 'ROD'>), status=OrderStatus(id='dbd1502f', status=<Status.PendingSubmit: 'PendingSubmit'>, status_code='    ', order_datetime=datetime.datetime(2022, 5, 4, 1, 13, 15), deals=[]))"
      ]
     },
     "execution_count": 12,
     "metadata": {},
     "output_type": "execute_result"
    },
    {
     "name": "stdout",
     "output_type": "stream",
     "text": [
      "__my_place_callback__\n",
      "OrderState.FOrder {'operation': {'op_type': 'New', 'op_code': '00', 'op_msg': ''}, 'order': {'id': 'dbd1502f', 'seqno': '423739', 'ordno': 'tA0MX', 'account': {'account_type': 'F', 'person_id': '', 'broker_id': 'F002002', 'account_id': '8071378', 'signed': True}, 'action': 'Sell', 'price': 17000.0, 'quantity': 1, 'order_type': 'ROD', 'price_type': 'LMT', 'market_type': 'Night', 'oc_type': 'New', 'subaccount': '', 'combo': False}, 'status': {'id': 'dbd1502f', 'exchange_ts': 1651511595, 'modified_price': 0.0, 'cancel_quantity': 0, 'order_quantity': 1, 'web_id': 'Z'}, 'contract': {'security_type': 'FUT', 'code': 'MXF', 'exchange': 'TIM', 'delivery_month': '202205', 'delivery_date': '', 'strike_price': 0.0, 'option_right': 'Future'}}\n"
     ]
    }
   ],
   "source": [
    "# 會實際下單，請小心操作!\n",
    "contract = api.Contracts.Futures.MXF['MXF202205']\n",
    "order = api.Order(\n",
    "    action='Sell',\n",
    "    price=17000,\n",
    "    quantity=1,\n",
    "    price_type='LMT',\n",
    "    order_type='ROD', \n",
    "    octype=sj.constant.FuturesOCType.Auto,\n",
    "    account=api.futopt_account\n",
    ")\n",
    "trade = api.place_order(contract, order)\n",
    "trade"
   ]
  },
  {
   "cell_type": "markdown",
   "metadata": {},
   "source": [
    "### Cancel Order"
   ]
  },
  {
   "cell_type": "code",
   "execution_count": 18,
   "metadata": {},
   "outputs": [
    {
     "data": {
      "text/plain": [
       "Trade(contract=Future(code='MXFE2', symbol='MXF202205', name='小型臺指05', category='MXF', delivery_month='202205', delivery_date='2022/05/18', underlying_kind='I', unit=1, limit_up=18239.0, limit_down=14923.0, reference=16581.0, update_date='2022/05/03'), order=Order(action=<Action.Sell: 'Sell'>, price=17000.0, quantity=1, id='b194d077', seqno='423812', ordno='tA0Mo', account=Account(account_type=<AccountType.Future: 'F'>, person_id='R120732106', broker_id='F002002', account_id='8071378', signed=True), price_type=<StockPriceType.LMT: 'LMT'>, order_type=<FuturesOrderType.ROD: 'ROD'>, octype=<FuturesOCType.New: 'New'>), status=OrderStatus(id='b194d077', status=<Status.Submitted: 'Submitted'>, status_code='0000', web_id='Z', order_datetime=datetime.datetime(2022, 5, 3, 1, 17, 19), modified_price=17002.0, deals=[]))"
      ]
     },
     "execution_count": 18,
     "metadata": {},
     "output_type": "execute_result"
    },
    {
     "name": "stdout",
     "output_type": "stream",
     "text": [
      "__my_place_callback__\n",
      "OrderState.FOrder {'operation': {'op_type': 'Cancel', 'op_code': '00', 'op_msg': ''}, 'order': {'id': 'b194d077', 'seqno': '423812', 'ordno': 'tA0Mo', 'account': {'account_type': 'F', 'person_id': '', 'broker_id': 'F002002', 'account_id': '8071378', 'signed': True}, 'action': 'Sell', 'price': 17002.0, 'quantity': 1, 'order_type': 'ROD', 'price_type': 'CXL', 'market_type': 'Night', 'oc_type': 'New', 'subaccount': '', 'combo': False}, 'status': {'id': 'b194d077', 'exchange_ts': 1651511986, 'modified_price': 0.0, 'cancel_quantity': 1, 'order_quantity': 1, 'web_id': 'Z'}, 'contract': {'security_type': 'FUT', 'code': 'MXF', 'exchange': 'TIM', 'delivery_month': '202205', 'delivery_date': '', 'strike_price': 0.0, 'option_right': 'Future'}}\n"
     ]
    }
   ],
   "source": [
    "api.update_status(api.futopt_account)\n",
    "api.cancel_order(trade)"
   ]
  },
  {
   "cell_type": "markdown",
   "metadata": {},
   "source": [
    "### Update Price"
   ]
  },
  {
   "cell_type": "code",
   "execution_count": 15,
   "metadata": {},
   "outputs": [
    {
     "data": {
      "text/plain": [
       "Trade(contract=Future(code='MXFE2', symbol='MXF202205', name='小型臺指05', category='MXF', delivery_month='202205', delivery_date='2022/05/18', underlying_kind='I', unit=1, limit_up=18239.0, limit_down=14923.0, reference=16581.0, update_date='2022/05/03'), order=Order(action=<Action.Sell: 'Sell'>, price=17000, quantity=1, id='b194d077', seqno='423812', account=Account(account_type=<AccountType.Future: 'F'>, person_id='R120732106', broker_id='F002002', account_id='8071378', signed=True), price_type=<StockPriceType.LMT: 'LMT'>, order_type=<FuturesOrderType.ROD: 'ROD'>), status=OrderStatus(id='b194d077', status=<Status.PendingSubmit: 'PendingSubmit'>, status_code='    ', order_datetime=datetime.datetime(2022, 5, 4, 1, 17, 18), deals=[]))"
      ]
     },
     "execution_count": 15,
     "metadata": {},
     "output_type": "execute_result"
    },
    {
     "name": "stdout",
     "output_type": "stream",
     "text": [
      "__my_place_callback__\n",
      "OrderState.FOrder {'operation': {'op_type': 'New', 'op_code': '00', 'op_msg': ''}, 'order': {'id': 'b194d077', 'seqno': '423812', 'ordno': 'tA0Mo', 'account': {'account_type': 'F', 'person_id': '', 'broker_id': 'F002002', 'account_id': '8071378', 'signed': True}, 'action': 'Sell', 'price': 17000.0, 'quantity': 1, 'order_type': 'ROD', 'price_type': 'LMT', 'market_type': 'Night', 'oc_type': 'New', 'subaccount': '', 'combo': False}, 'status': {'id': 'b194d077', 'exchange_ts': 1651511839, 'modified_price': 0.0, 'cancel_quantity': 0, 'order_quantity': 1, 'web_id': 'Z'}, 'contract': {'security_type': 'FUT', 'code': 'MXF', 'exchange': 'TIM', 'delivery_month': '202205', 'delivery_date': '', 'strike_price': 0.0, 'option_right': 'Future'}}\n"
     ]
    }
   ],
   "source": [
    "# 會實際下單，請小心操作!\n",
    "contract = api.Contracts.Futures.MXF['MXF202205']\n",
    "order = api.Order(\n",
    "    action='Sell',\n",
    "    price=17000,\n",
    "    quantity=1,\n",
    "    price_type='LMT',\n",
    "    order_type='ROD', \n",
    "    octype=sj.constant.FuturesOCType.Auto,\n",
    "    account=api.futopt_account\n",
    ")\n",
    "trade = api.place_order(contract, order)\n",
    "trade"
   ]
  },
  {
   "cell_type": "code",
   "execution_count": 17,
   "metadata": {},
   "outputs": [
    {
     "data": {
      "text/plain": [
       "Trade(contract=Future(code='MXFE2', symbol='MXF202205', name='小型臺指05', category='MXF', delivery_month='202205', delivery_date='2022/05/18', underlying_kind='I', unit=1, limit_up=18239.0, limit_down=14923.0, reference=16581.0, update_date='2022/05/03'), order=Order(action=<Action.Sell: 'Sell'>, price=17000.0, quantity=1, id='b194d077', seqno='423812', ordno='tA0Mo', account=Account(account_type=<AccountType.Future: 'F'>, person_id='R120732106', broker_id='F002002', account_id='8071378', signed=True), price_type=<StockPriceType.LMT: 'LMT'>, order_type=<FuturesOrderType.ROD: 'ROD'>, octype=<FuturesOCType.New: 'New'>), status=OrderStatus(id='b194d077', status=<Status.Submitted: 'Submitted'>, status_code='0000', web_id='Z', order_datetime=datetime.datetime(2022, 5, 3, 1, 17, 19), modified_price=17001.0, deals=[]))"
      ]
     },
     "execution_count": 17,
     "metadata": {},
     "output_type": "execute_result"
    },
    {
     "name": "stdout",
     "output_type": "stream",
     "text": [
      "__my_place_callback__\n",
      "OrderState.FOrder {'operation': {'op_type': 'UpdatePrice', 'op_code': '00', 'op_msg': ''}, 'order': {'id': 'b194d077', 'seqno': '423812', 'ordno': 'tA0Mo', 'account': {'account_type': 'F', 'person_id': '', 'broker_id': 'F002002', 'account_id': '8071378', 'signed': True}, 'action': 'Sell', 'price': 17002.0, 'quantity': 1, 'order_type': 'ROD', 'price_type': 'UPL', 'market_type': 'Night', 'oc_type': 'New', 'subaccount': '', 'combo': False}, 'status': {'id': 'b194d077', 'exchange_ts': 1651511899, 'modified_price': 17002.0, 'cancel_quantity': 0, 'order_quantity': 1, 'web_id': 'Z'}, 'contract': {'security_type': 'FUT', 'code': 'MXF', 'exchange': 'TIM', 'delivery_month': '202205', 'delivery_date': '', 'strike_price': 0.0, 'option_right': 'Future'}}\n"
     ]
    }
   ],
   "source": [
    "api.update_status(api.futopt_account)\n",
    "api.update_order(trade=trade, price=17002)"
   ]
  },
  {
   "cell_type": "markdown",
   "metadata": {},
   "source": [
    "### Update Quantity"
   ]
  },
  {
   "cell_type": "code",
   "execution_count": 19,
   "metadata": {},
   "outputs": [
    {
     "data": {
      "text/plain": [
       "Trade(contract=Future(code='MXFE2', symbol='MXF202205', name='小型臺指05', category='MXF', delivery_month='202205', delivery_date='2022/05/18', underlying_kind='I', unit=1, limit_up=18239.0, limit_down=14923.0, reference=16581.0, update_date='2022/05/03'), order=Order(action=<Action.Sell: 'Sell'>, price=17000, quantity=1, id='5093cfdc', seqno='423856', account=Account(account_type=<AccountType.Future: 'F'>, person_id='R120732106', broker_id='F002002', account_id='8071378', signed=True), price_type=<StockPriceType.LMT: 'LMT'>, order_type=<FuturesOrderType.ROD: 'ROD'>), status=OrderStatus(id='5093cfdc', status=<Status.PendingSubmit: 'PendingSubmit'>, status_code='    ', order_datetime=datetime.datetime(2022, 5, 4, 1, 19, 55), deals=[]))"
      ]
     },
     "execution_count": 19,
     "metadata": {},
     "output_type": "execute_result"
    },
    {
     "name": "stdout",
     "output_type": "stream",
     "text": [
      "__my_place_callback__\n",
      "OrderState.FOrder {'operation': {'op_type': 'New', 'op_code': '00', 'op_msg': ''}, 'order': {'id': '5093cfdc', 'seqno': '423856', 'ordno': 'tA0Mu', 'account': {'account_type': 'F', 'person_id': '', 'broker_id': 'F002002', 'account_id': '8071378', 'signed': True}, 'action': 'Sell', 'price': 17000.0, 'quantity': 1, 'order_type': 'ROD', 'price_type': 'LMT', 'market_type': 'Night', 'oc_type': 'New', 'subaccount': '', 'combo': False}, 'status': {'id': '5093cfdc', 'exchange_ts': 1651511995, 'modified_price': 0.0, 'cancel_quantity': 0, 'order_quantity': 1, 'web_id': 'Z'}, 'contract': {'security_type': 'FUT', 'code': 'MXF', 'exchange': 'TIM', 'delivery_month': '202205', 'delivery_date': '', 'strike_price': 0.0, 'option_right': 'Future'}}\n"
     ]
    }
   ],
   "source": [
    "# 會實際下單，請小心操作!\n",
    "contract = api.Contracts.Futures.MXF['MXF202205']\n",
    "order = api.Order(\n",
    "    action='Sell',\n",
    "    price=17000,\n",
    "    quantity=1,\n",
    "    price_type='LMT',\n",
    "    order_type='ROD', \n",
    "    octype=sj.constant.FuturesOCType.Auto,\n",
    "    account=api.futopt_account\n",
    ")\n",
    "trade = api.place_order(contract, order)\n",
    "trade"
   ]
  },
  {
   "cell_type": "code",
   "execution_count": 21,
   "metadata": {},
   "outputs": [
    {
     "data": {
      "text/plain": [
       "Trade(contract=Future(code='MXFE2', symbol='MXF202205', name='小型臺指05', category='MXF', delivery_month='202205', delivery_date='2022/05/18', underlying_kind='I', unit=1, limit_up=18239.0, limit_down=14923.0, reference=16581.0, update_date='2022/05/03'), order=Order(action=<Action.Sell: 'Sell'>, price=17000.0, quantity=1, id='5093cfdc', seqno='423856', ordno='tA0Mu', account=Account(account_type=<AccountType.Future: 'F'>, person_id='R120732106', broker_id='F002002', account_id='8071378', signed=True), price_type=<StockPriceType.LMT: 'LMT'>, order_type=<FuturesOrderType.ROD: 'ROD'>, octype=<FuturesOCType.New: 'New'>), status=OrderStatus(id='5093cfdc', status=<Status.Submitted: 'Submitted'>, status_code='0000', web_id='Z', order_datetime=datetime.datetime(2022, 5, 3, 1, 19, 55), modified_price=17000.0, deals=[]))"
      ]
     },
     "execution_count": 21,
     "metadata": {},
     "output_type": "execute_result"
    },
    {
     "name": "stdout",
     "output_type": "stream",
     "text": [
      "__my_place_callback__\n",
      "OrderState.FOrder {'operation': {'op_type': 'New', 'op_code': '99Q9', 'op_msg': '可委託金額不足'}, 'order': {'id': '4499259b', 'seqno': '424181', 'ordno': '00', 'account': {'account_type': 'F', 'person_id': '', 'broker_id': 'F002002', 'account_id': '8071378', 'signed': True}, 'action': 'Sell', 'price': 17000.0, 'quantity': 1, 'order_type': 'ROD', 'price_type': 'LMT', 'market_type': 'Night', 'oc_type': 'New', 'subaccount': '', 'combo': False}, 'status': {'id': '4499259b', 'exchange_ts': 1651513597, 'modified_price': 0.0, 'cancel_quantity': 0, 'order_quantity': 1, 'web_id': 'Z'}, 'contract': {'security_type': 'FUT', 'code': 'MXF', 'exchange': 'TIM', 'delivery_month': '202205', 'delivery_date': '', 'strike_price': 0.0, 'option_right': 'Future'}}\n",
      "__my_place_callback__\n",
      "OrderState.FOrder {'operation': {'op_type': 'Cancel', 'op_code': '00', 'op_msg': ''}, 'order': {'id': '5093cfdc', 'seqno': '423856', 'ordno': 'tA0Mu', 'account': {'account_type': 'F', 'person_id': '', 'broker_id': 'F002002', 'account_id': '8071378', 'signed': True}, 'action': 'Sell', 'price': 17000.0, 'quantity': 1, 'order_type': 'ROD', 'price_type': 'CXL', 'market_type': 'Night', 'oc_type': 'New', 'subaccount': '', 'combo': False}, 'status': {'id': '5093cfdc', 'exchange_ts': 1651513616, 'modified_price': 0.0, 'cancel_quantity': 1, 'order_quantity': 1, 'web_id': 'I'}, 'contract': {'security_type': 'FUT', 'code': 'MXF', 'exchange': 'TIM', 'delivery_month': '202205', 'delivery_date': '', 'strike_price': 0.0, 'option_right': 'Future'}}\n",
      "__my_place_callback__\n",
      "OrderState.FOrder {'operation': {'op_type': 'New', 'op_code': '00', 'op_msg': ''}, 'order': {'id': 'd1ae41b4', 'seqno': '424185', 'ordno': 'tA0NL', 'account': {'account_type': 'F', 'person_id': '', 'broker_id': 'F002002', 'account_id': '8071378', 'signed': True}, 'action': 'Sell', 'price': 17000.0, 'quantity': 1, 'order_type': 'ROD', 'price_type': 'LMT', 'market_type': 'Night', 'oc_type': 'New', 'subaccount': '', 'combo': False}, 'status': {'id': 'd1ae41b4', 'exchange_ts': 1651513628, 'modified_price': 0.0, 'cancel_quantity': 0, 'order_quantity': 1, 'web_id': 'Z'}, 'contract': {'security_type': 'FUT', 'code': 'MXF', 'exchange': 'TIM', 'delivery_month': '202205', 'delivery_date': '', 'strike_price': 0.0, 'option_right': 'Future'}}\n",
      "__my_place_callback__\n",
      "OrderState.FOrder {'operation': {'op_type': 'Cancel', 'op_code': '00', 'op_msg': ''}, 'order': {'id': 'd1ae41b4', 'seqno': '424185', 'ordno': 'tA0NL', 'account': {'account_type': 'F', 'person_id': '', 'broker_id': 'F002002', 'account_id': '8071378', 'signed': True}, 'action': 'Sell', 'price': 17000.0, 'quantity': 1, 'order_type': 'ROD', 'price_type': 'CXL', 'market_type': 'Night', 'oc_type': 'New', 'subaccount': '', 'combo': False}, 'status': {'id': 'd1ae41b4', 'exchange_ts': 1651513650, 'modified_price': 0.0, 'cancel_quantity': 1, 'order_quantity': 1, 'web_id': 'I'}, 'contract': {'security_type': 'FUT', 'code': 'MXF', 'exchange': 'TIM', 'delivery_month': '202205', 'delivery_date': '', 'strike_price': 0.0, 'option_right': 'Future'}}\n"
     ]
    }
   ],
   "source": [
    "# 不曉得為什麼沒有成功下單，但沒有錯誤訊息?!\n",
    "api.update_status(api.futopt_account)\n",
    "api.update_order(trade=trade, qty=2)"
   ]
  },
  {
   "cell_type": "markdown",
   "metadata": {},
   "source": [
    "## Deal Event\n",
    "Deal event occurs when the order is full/partially filled. Note that you \"may\" recieve the deal event sooner than the order event due to message priority in exchange.<br>\n",
    "[參考網頁針對全部成交、部份成交的輸出範例](https://sinotrade.github.io/tutor/order_deal_event/futures/)"
   ]
  },
  {
   "cell_type": "markdown",
   "metadata": {},
   "source": [
    "### Filled"
   ]
  },
  {
   "cell_type": "markdown",
   "metadata": {},
   "source": [
    "> `id` in FOrder is the same as `trade_id` in FDeal.<br>\n",
    "> `seqno` in FOrder is the same as `seqno` in FDeal.<br>\n",
    "> The first 5 characters of `ordno` in FDeal is the same as `ordno` in FOrder. The last 3 characters of `ordno` in FDeal represent the deal sequence number.<br>"
   ]
  },
  {
   "cell_type": "markdown",
   "metadata": {},
   "source": [
    "### Filling"
   ]
  },
  {
   "cell_type": "markdown",
   "metadata": {},
   "source": [
    "> `id` in FOrder is the same as `trade_id` in FDeal(partially filled: 1 and 2).<br>\n",
    "> `seqno` in FOrder is the same as `seqno` in FDeal(partially filled: 1 and 2).<br>\n",
    "> The first 5 characters of `ordno` in FDeal(partially filled: 1 and 2) is the same as `ordno` in FOrder. The last 3 characters of `ordno` in FDeal represent the deal sequence number, which means they are different for each deal events.<br>"
   ]
  },
  {
   "cell_type": "markdown",
   "metadata": {},
   "source": [
    "---\n",
    "### Prev: [Order & Deal Event / Stocks](shioaji-order_deal_event-stocks.ipynb) Next: [Advanced Guide / Non-blocking Mode](shioaji-advanced_guide-non_blocking_mode.ipynb)"
   ]
  }
 ],
 "metadata": {
  "interpreter": {
   "hash": "43e799a8c0c25cc01ad6496af7769d603e839830943cc4ee57aeca70952c0fbd"
  },
  "kernelspec": {
   "display_name": "Python 3.7.12 ('python3.7')",
   "language": "python",
   "name": "python3"
  },
  "language_info": {
   "codemirror_mode": {
    "name": "ipython",
    "version": 3
   },
   "file_extension": ".py",
   "mimetype": "text/x-python",
   "name": "python",
   "nbconvert_exporter": "python",
   "pygments_lexer": "ipython3",
   "version": "3.7.12"
  },
  "orig_nbformat": 4
 },
 "nbformat": 4,
 "nbformat_minor": 2
}
