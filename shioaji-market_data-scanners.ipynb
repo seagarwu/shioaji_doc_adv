{
 "cells": [
  {
   "cell_type": "markdown",
   "metadata": {},
   "source": [
    "[![Open In Colab](https://colab.research.google.com/assets/colab-badge.svg)](https://colab.research.google.com/github/seagarwu/mynotebooks/blob/main/shioaji/shioaji_onlinedoc/shioaji-market_data-scanners.ipynb)"
   ]
  },
  {
   "cell_type": "markdown",
   "metadata": {},
   "source": [
    "# Scanners"
   ]
  },
  {
   "cell_type": "markdown",
   "metadata": {},
   "source": [
    "## [First, you need login.](shioaji-quick_start.ipynb)"
   ]
  },
  {
   "cell_type": "code",
   "execution_count": 1,
   "metadata": {},
   "outputs": [
    {
     "name": "stdout",
     "output_type": "stream",
     "text": [
      "Response Code: 0 | Event Code: 0 | Info: host '203.66.91.161:80', hostname '203.66.91.161:80' IP 203.66.91.161:80 (host 1 of 1) (host connection attempt 1 of 1) (total connection attempt 1 of 1) | Event: Session up\n"
     ]
    }
   ],
   "source": [
    "import shioaji as sj\n",
    "import getpass as gp\n",
    "\n",
    "api = sj.Shioaji()\n",
    "user_id, user_pass = gp.getpass(\"USER ID: \"), gp.getpass(\"USER PASS: \")\n",
    "accounts = api.login(user_id, user_pass)"
   ]
  },
  {
   "cell_type": "markdown",
   "metadata": {},
   "source": [
    "Scanners can use parameter of scannertype to get the rank of ChangePercent, ChangePrice, DayRange, Volume and Amount.\n",
    "\n",
    "Scanners，顧名思義就是在盤中或盤後掃描個股使用，例如每日交易量排行。\n",
    "https://ithelp.ithome.com.tw/m/articles/10267679"
   ]
  },
  {
   "cell_type": "code",
   "execution_count": 9,
   "metadata": {},
   "outputs": [
    {
     "name": "stdout",
     "output_type": "stream",
     "text": [
      "\u001b[1;31mSignature:\u001b[0m\n",
      "\u001b[0mapi\u001b[0m\u001b[1;33m.\u001b[0m\u001b[0mscanners\u001b[0m\u001b[1;33m(\u001b[0m\u001b[1;33m\n",
      "\u001b[0m    \u001b[0mscanner_type\u001b[0m\u001b[1;33m:\u001b[0m \u001b[0mshioaji\u001b[0m\u001b[1;33m.\u001b[0m\u001b[0mconstant\u001b[0m\u001b[1;33m.\u001b[0m\u001b[0mScannerType\u001b[0m\u001b[1;33m,\u001b[0m\u001b[1;33m\n",
      "\u001b[0m    \u001b[0mascending\u001b[0m\u001b[1;33m:\u001b[0m \u001b[0mbool\u001b[0m \u001b[1;33m=\u001b[0m \u001b[1;32mTrue\u001b[0m\u001b[1;33m,\u001b[0m\u001b[1;33m\n",
      "\u001b[0m    \u001b[0mdate\u001b[0m\u001b[1;33m:\u001b[0m \u001b[0mstr\u001b[0m \u001b[1;33m=\u001b[0m \u001b[1;32mNone\u001b[0m\u001b[1;33m,\u001b[0m\u001b[1;33m\n",
      "\u001b[0m    \u001b[0mcount\u001b[0m\u001b[1;33m:\u001b[0m \u001b[0mshioaji\u001b[0m\u001b[1;33m.\u001b[0m\u001b[0mshioaji\u001b[0m\u001b[1;33m.\u001b[0m\u001b[0mConstrainedIntValue\u001b[0m \u001b[1;33m=\u001b[0m \u001b[1;36m100\u001b[0m\u001b[1;33m,\u001b[0m\u001b[1;33m\n",
      "\u001b[0m    \u001b[0mtimeout\u001b[0m\u001b[1;33m:\u001b[0m \u001b[0mint\u001b[0m \u001b[1;33m=\u001b[0m \u001b[1;36m30000\u001b[0m\u001b[1;33m,\u001b[0m\u001b[1;33m\n",
      "\u001b[0m    \u001b[0mcb\u001b[0m\u001b[1;33m:\u001b[0m \u001b[0mCallable\u001b[0m\u001b[1;33m[\u001b[0m\u001b[1;33m[\u001b[0m\u001b[0mList\u001b[0m\u001b[1;33m[\u001b[0m\u001b[0mshioaji\u001b[0m\u001b[1;33m.\u001b[0m\u001b[0mdata\u001b[0m\u001b[1;33m.\u001b[0m\u001b[0mChangePercentRank\u001b[0m\u001b[1;33m]\u001b[0m\u001b[1;33m]\u001b[0m\u001b[1;33m,\u001b[0m \u001b[0mNoneType\u001b[0m\u001b[1;33m]\u001b[0m \u001b[1;33m=\u001b[0m \u001b[1;32mNone\u001b[0m\u001b[1;33m,\u001b[0m\u001b[1;33m\n",
      "\u001b[0m\u001b[1;33m)\u001b[0m \u001b[1;33m->\u001b[0m \u001b[0mList\u001b[0m\u001b[1;33m[\u001b[0m\u001b[0mshioaji\u001b[0m\u001b[1;33m.\u001b[0m\u001b[0mdata\u001b[0m\u001b[1;33m.\u001b[0m\u001b[0mChangePercentRank\u001b[0m\u001b[1;33m]\u001b[0m\u001b[1;33m\u001b[0m\u001b[1;33m\u001b[0m\u001b[0m\n",
      "\u001b[1;31mDocstring:\u001b[0m\n",
      "get contract snapshot info\n",
      "\n",
      "Arg:\n",
      "    contract (:obj:List of contract)\n",
      "\u001b[1;31mFile:\u001b[0m      c:\\users\\alan\\anaconda3\\envs\\python3.7\\lib\\site-packages\\shioaji\\shioaji.py\n",
      "\u001b[1;31mType:\u001b[0m      method\n"
     ]
    }
   ],
   "source": [
    "api.scanners?"
   ]
  },
  {
   "cell_type": "markdown",
   "metadata": {},
   "source": [
    "> Attributes:<br>\n",
    ">\n",
    "> scanner_type (ScannerType): # 排行類型，目前提供下列五種：AmountRank、ChangePriceRank、VolumeRank、ChangePercentRank、DayRangeRank<br>\n",
    ">     {ChangePercentRank, ChangePriceRank, DayRangeRank, VolumeRank, AmountRank}<br>\n",
    "> ascending: bool = True, # 排序方式，預設排序方式為遞增<br>\n",
    "> date: str = None, # 排行資料日期，若未指定日期，則預設為當天<br>\n",
    "> count (int): count {1<=count<=200} # 用來指定所要抓取的個股筆數，預設下是回傳排行前100名的個股資訊，可允許參數值範圍為1~200<br>\n",
    "> timeout: int = 30000, # timeout時間，預設為30000ms<br>\n",
    "> cb: Callable[[List[shioaji.data.ChangePercentRank]], NoneType] = None<br>\n",
    "\n",
    "https://ithelp.ithome.com.tw/m/articles/10267679"
   ]
  },
  {
   "cell_type": "markdown",
   "metadata": {},
   "source": [
    "執行Scanners所回傳的排行資訊，都是shioaji.data.ChangePercentRank物件的List，物件屬性說明如下：\n",
    "\n",
    "|屬性|值|說明|\n",
    "|:----|:----|:----|\n",
    "|date|'2021-09-17'|日期|\n",
    "|code|'2330'|股票代碼|\n",
    "|name|'台積電'|股票名稱|\n",
    "|ts|1631889000000000000|時間|\n",
    "|open|600.0|開盤價|\n",
    "|high|610.0|最高價|\n",
    "|low|599.0|最低價|\n",
    "|close|600.0|收盤價|\n",
    "|price_range|11.0|價格變動區間(最高價-最低價)|\n",
    "|tick_type|2|tick類型|\n",
    "|change_price|0.0|變動價格|\n",
    "|change_type|3|變動類型|\n",
    "|average_price|601.91|均價|\n",
    "|volume|57|最後一個tick的成交量，若收盤後才抓，則為盤後定價成交量|\n",
    "|total_volume|40717|總成交量|\n",
    "|amount|34200000|成交金額|\n",
    "|total_amount|24508038290|總成交金額|\n",
    "|yesterday_volume|22539|前一交易日成交量|\n",
    "|volume_ratio|1.81|成交量比率(今日總成交量/前一交易日成交量)|\n",
    "|buy_price|600.0|委買價|\n",
    "|buy_volume|1107|委買量|\n",
    "|sell_price|601.0|委賣價|\n",
    "|sell_volume|3|委賣量|\n",
    "|bid_orders|0| |\n",
    "|bid_volumes|0| |\n",
    "|ask_orders|0| |\n",
    "|ask_volumes|0| |\n",
    "\n",
    "tick_type說明:\n",
    "\n",
    "|Constant|值|說明|\n",
    "|:----|:----|:----|\n",
    "|TickType.No|0|無法判斷|\n",
    "|TickType.Buy|1|外盤|\n",
    "|TickType.Sell|2|內盤|\n",
    "\n",
    "change_type說明:\n",
    "\n",
    "|Constant|值|說明|\n",
    "|:----|:----|:----|\n",
    "|ChangeType.LimitUp|1|漲停|\n",
    "|ChangeType.Up|2|上漲|\n",
    "|ChangeType.Unchanged|3|平盤|\n",
    "|ChangeType.Down|4|下跌|\n",
    "|ChangeType.LimitDown|5|跌停|"
   ]
  },
  {
   "cell_type": "markdown",
   "metadata": {},
   "source": [
    "## Get Amount Rank\n",
    "\n",
    "**當日成交金額排行**<br>\n",
    "所謂的成交金額，是指 成交數量*成交價格，而AmountRank是以total_amount總成交金額做排行"
   ]
  },
  {
   "cell_type": "code",
   "execution_count": 3,
   "metadata": {},
   "outputs": [
    {
     "data": {
      "text/plain": [
       "ChangePercentRank(date='2022-04-27', code='2330', name='台積電', ts=1651066200000000000, open=530.0, high=532.0, low=526.0, close=526.0, price_range=6.0, tick_type=2, change_price=-20.0, change_type=4, average_price=529.07, volume=8484, total_volume=55571, amount=4462584000, total_amount=29400712000, yesterday_volume=35825, volume_ratio=1.55, buy_price=526.0, buy_volume=1341, sell_price=527.0, sell_volume=18, bid_orders=8923, bid_volumes=335185, ask_orders=5347, ask_volumes=799584)"
      ]
     },
     "execution_count": 3,
     "metadata": {},
     "output_type": "execute_result"
    }
   ],
   "source": [
    "scanner = api.scanners(\n",
    "            scanner_type = sj.constant.ScannerType.AmountRank, \n",
    "            count = 1\n",
    "          )\n",
    "scanner[0]\n",
    "\n",
    "# https://ithelp.ithome.com.tw/m/articles/10267679"
   ]
  },
  {
   "cell_type": "markdown",
   "metadata": {},
   "source": [
    "### To DataFrame"
   ]
  },
  {
   "cell_type": "code",
   "execution_count": 22,
   "metadata": {},
   "outputs": [
    {
     "data": {
      "text/html": [
       "<div>\n",
       "<style scoped>\n",
       "    .dataframe tbody tr th:only-of-type {\n",
       "        vertical-align: middle;\n",
       "    }\n",
       "\n",
       "    .dataframe tbody tr th {\n",
       "        vertical-align: top;\n",
       "    }\n",
       "\n",
       "    .dataframe thead th {\n",
       "        text-align: right;\n",
       "    }\n",
       "</style>\n",
       "<table border=\"1\" class=\"dataframe\">\n",
       "  <thead>\n",
       "    <tr style=\"text-align: right;\">\n",
       "      <th></th>\n",
       "      <th>amount</th>\n",
       "      <th>ask_orders</th>\n",
       "      <th>ask_volumes</th>\n",
       "      <th>average_price</th>\n",
       "      <th>bid_orders</th>\n",
       "      <th>bid_volumes</th>\n",
       "      <th>buy_price</th>\n",
       "      <th>buy_volume</th>\n",
       "      <th>change_price</th>\n",
       "      <th>change_type</th>\n",
       "      <th>...</th>\n",
       "      <th>price_range</th>\n",
       "      <th>sell_price</th>\n",
       "      <th>sell_volume</th>\n",
       "      <th>tick_type</th>\n",
       "      <th>total_amount</th>\n",
       "      <th>total_volume</th>\n",
       "      <th>ts</th>\n",
       "      <th>volume</th>\n",
       "      <th>volume_ratio</th>\n",
       "      <th>yesterday_volume</th>\n",
       "    </tr>\n",
       "  </thead>\n",
       "  <tbody>\n",
       "    <tr>\n",
       "      <th>0</th>\n",
       "      <td>73640000</td>\n",
       "      <td>5349</td>\n",
       "      <td>808208</td>\n",
       "      <td>529.07</td>\n",
       "      <td>8923</td>\n",
       "      <td>335185</td>\n",
       "      <td>526.0</td>\n",
       "      <td>1341</td>\n",
       "      <td>-20.0</td>\n",
       "      <td>4</td>\n",
       "      <td>...</td>\n",
       "      <td>6.0</td>\n",
       "      <td>527.0</td>\n",
       "      <td>18</td>\n",
       "      <td>2</td>\n",
       "      <td>29596534490</td>\n",
       "      <td>55941</td>\n",
       "      <td>2022-04-27 14:30:00</td>\n",
       "      <td>140</td>\n",
       "      <td>1.56</td>\n",
       "      <td>35825</td>\n",
       "    </tr>\n",
       "    <tr>\n",
       "      <th>1</th>\n",
       "      <td>31392500</td>\n",
       "      <td>6963</td>\n",
       "      <td>106630</td>\n",
       "      <td>206.40</td>\n",
       "      <td>8628</td>\n",
       "      <td>387850</td>\n",
       "      <td>216.0</td>\n",
       "      <td>72</td>\n",
       "      <td>17.0</td>\n",
       "      <td>2</td>\n",
       "      <td>...</td>\n",
       "      <td>27.0</td>\n",
       "      <td>216.5</td>\n",
       "      <td>284</td>\n",
       "      <td>1</td>\n",
       "      <td>13136197682</td>\n",
       "      <td>63645</td>\n",
       "      <td>2022-04-27 14:30:00</td>\n",
       "      <td>145</td>\n",
       "      <td>2.66</td>\n",
       "      <td>23955</td>\n",
       "    </tr>\n",
       "    <tr>\n",
       "      <th>2</th>\n",
       "      <td>42280000</td>\n",
       "      <td>6962</td>\n",
       "      <td>590528</td>\n",
       "      <td>137.22</td>\n",
       "      <td>6692</td>\n",
       "      <td>402697</td>\n",
       "      <td>139.5</td>\n",
       "      <td>797</td>\n",
       "      <td>1.0</td>\n",
       "      <td>2</td>\n",
       "      <td>...</td>\n",
       "      <td>7.5</td>\n",
       "      <td>140.0</td>\n",
       "      <td>180</td>\n",
       "      <td>1</td>\n",
       "      <td>12421383560</td>\n",
       "      <td>90519</td>\n",
       "      <td>2022-04-27 14:30:00</td>\n",
       "      <td>302</td>\n",
       "      <td>1.83</td>\n",
       "      <td>49460</td>\n",
       "    </tr>\n",
       "  </tbody>\n",
       "</table>\n",
       "<p>3 rows × 27 columns</p>\n",
       "</div>"
      ],
      "text/plain": [
       "     amount  ask_orders  ask_volumes  average_price  bid_orders  bid_volumes  \\\n",
       "0  73640000        5349       808208         529.07        8923       335185   \n",
       "1  31392500        6963       106630         206.40        8628       387850   \n",
       "2  42280000        6962       590528         137.22        6692       402697   \n",
       "\n",
       "   buy_price  buy_volume  change_price  change_type  ...  price_range  \\\n",
       "0      526.0        1341         -20.0            4  ...          6.0   \n",
       "1      216.0          72          17.0            2  ...         27.0   \n",
       "2      139.5         797           1.0            2  ...          7.5   \n",
       "\n",
       "  sell_price sell_volume  tick_type  total_amount total_volume  \\\n",
       "0      527.0          18          2   29596534490        55941   \n",
       "1      216.5         284          1   13136197682        63645   \n",
       "2      140.0         180          1   12421383560        90519   \n",
       "\n",
       "                   ts  volume  volume_ratio  yesterday_volume  \n",
       "0 2022-04-27 14:30:00     140          1.56             35825  \n",
       "1 2022-04-27 14:30:00     145          2.66             23955  \n",
       "2 2022-04-27 14:30:00     302          1.83             49460  \n",
       "\n",
       "[3 rows x 27 columns]"
      ]
     },
     "execution_count": 22,
     "metadata": {},
     "output_type": "execute_result"
    }
   ],
   "source": [
    "import pandas as pd\n",
    "scanner = api.scanners(\n",
    "            scanner_type = sj.constant.ScannerType.AmountRank, \n",
    "            count = 3\n",
    "          )\n",
    "scanner_df = pd.DataFrame(scanner)\n",
    "scanner_df.ts = pd.to_datetime(scanner_df.ts)\n",
    "scanner_df"
   ]
  },
  {
   "cell_type": "code",
   "execution_count": 24,
   "metadata": {},
   "outputs": [
    {
     "data": {
      "text/plain": [
       "[ChangePercentRank(date='2022-04-27', code='2330', name='台積電', ts=1651069800000000000, open=530.0, high=532.0, low=526.0, close=526.0, price_range=6.0, tick_type=2, change_price=-20.0, change_type=4, average_price=529.07, volume=140, total_volume=55941, amount=73640000, total_amount=29596534490, yesterday_volume=35825, volume_ratio=1.56, buy_price=526.0, buy_volume=1341, sell_price=527.0, sell_volume=18, bid_orders=8923, bid_volumes=335185, ask_orders=5349, ask_volumes=808208),\n",
       " ChangePercentRank(date='2022-04-27', code='3037', name='欣興', ts=1651069800000000000, open=195.0, high=219.0, low=192.0, close=216.5, price_range=27.0, tick_type=1, change_price=17.0, change_type=2, average_price=206.4, volume=145, total_volume=63645, amount=31392500, total_amount=13136197682, yesterday_volume=23955, volume_ratio=2.66, buy_price=216.0, buy_volume=72, sell_price=216.5, sell_volume=284, bid_orders=8628, bid_volumes=387850, ask_orders=6963, ask_volumes=106630),\n",
       " ChangePercentRank(date='2022-04-27', code='2603', name='長榮', ts=1651069800000000000, open=134.0, high=140.5, low=133.0, close=140.0, price_range=7.5, tick_type=1, change_price=1.0, change_type=2, average_price=137.22, volume=302, total_volume=90519, amount=42280000, total_amount=12421383560, yesterday_volume=49460, volume_ratio=1.83, buy_price=139.5, buy_volume=797, sell_price=140.0, sell_volume=180, bid_orders=6692, bid_volumes=402697, ask_orders=6962, ask_volumes=590528)]"
      ]
     },
     "execution_count": 24,
     "metadata": {},
     "output_type": "execute_result"
    }
   ],
   "source": [
    "import pandas as pd\n",
    "amount_rank = api.scanners(\n",
    "            scanner_type = sj.constant.ScannerType.AmountRank, #指定所要抓取的排行類型\n",
    "            count = 3, #抓排行前3名\n",
    "            date='2022-04-27' #抓2022/04/27當天的排行\n",
    "          )\n",
    "# amount_rank_df = pd.DataFrame(amount_rank)\n",
    "# amount_rank_df.ts = pd.to_datetime(amount_rank_df.ts)\n",
    "# amount_rank_df\n",
    "amount_rank"
   ]
  },
  {
   "cell_type": "markdown",
   "metadata": {},
   "source": [
    "## Get Change PriceRank\n",
    "\n",
    "ChangePriceRank是以change_price漲(跌)金額做排行，排序方式即為上漲金額由高(漲最多)到低(跌最多)"
   ]
  },
  {
   "cell_type": "code",
   "execution_count": null,
   "metadata": {},
   "outputs": [],
   "source": [
    "scanner = api.scanners(\n",
    "            scanner_type = sj.constant.ScannerType.ChangePriceRank, \n",
    "            count = 1\n",
    "          )\n",
    "scanner[0]"
   ]
  },
  {
   "cell_type": "code",
   "execution_count": 20,
   "metadata": {},
   "outputs": [
    {
     "data": {
      "text/plain": [
       "[ChangePercentRank(date='2022-04-27', code='5274', name='信驊', ts=1651069800000000000, open=2285.0, high=2540.0, low=2250.0, close=2540.0, price_range=290.0, tick_type=2, change_price=55.0, change_type=2, average_price=2430.53, volume=66, total_volume=606, amount=167640000, total_amount=1472912900, yesterday_volume=779, volume_ratio=0.78, buy_price=2540.0, buy_volume=1, sell_price=2545.0, sell_volume=6, bid_orders=263, bid_volumes=2237, ask_orders=318, ask_volumes=1746),\n",
       " ChangePercentRank(date='2022-04-27', code='3661', name='世芯-KY', ts=1651069800000000000, open=759.0, high=849.0, low=752.0, close=849.0, price_range=97.0, tick_type=1, change_price=48.0, change_type=2, average_price=793.68, volume=16, total_volume=4695, amount=13584000, total_amount=3726327520, yesterday_volume=3383, volume_ratio=1.39, buy_price=840.0, buy_volume=2, sell_price=849.0, sell_volume=14, bid_orders=1484, bid_volumes=14817, ask_orders=1280, ask_volumes=7801),\n",
       " ChangePercentRank(date='2022-04-27', code='3529', name='力旺', ts=1651069800000000000, open=1020.0, high=1130.0, low=1010.0, close=1130.0, price_range=120.0, tick_type=1, change_price=25.0, change_type=2, average_price=1060.3, volume=1, total_volume=1980, amount=1130000, total_amount=2099388580, yesterday_volume=2296, volume_ratio=0.86, buy_price=1125.0, buy_volume=3, sell_price=1130.0, sell_volume=10, bid_orders=529, bid_volumes=5288, ask_orders=888, ask_volumes=4937)]"
      ]
     },
     "execution_count": 20,
     "metadata": {},
     "output_type": "execute_result"
    }
   ],
   "source": [
    "# 抓取當日上漲金額前三名的個股範例\n",
    "change_price_rank_up = api.scanners(\n",
    "            scanner_type = sj.constant.ScannerType.ChangePriceRank,\n",
    "            count = 3,\n",
    "            date='2022-04-27'\n",
    "          )\n",
    "change_price_rank_up"
   ]
  },
  {
   "cell_type": "code",
   "execution_count": 26,
   "metadata": {},
   "outputs": [
    {
     "data": {
      "text/plain": [
       "[ChangePercentRank(date='2022-04-27', code='5269', name='祥碩', ts=1651069800000000000, open=1285.0, high=1365.0, low=1285.0, close=1350.0, price_range=80.0, tick_type=1, change_price=-50.0, change_type=4, average_price=1323.67, volume=87, total_volume=1145, amount=117450000, total_amount=1515683300, yesterday_volume=948, volume_ratio=1.21, buy_price=1345.0, buy_volume=7, sell_price=1350.0, sell_volume=2, bid_orders=336, bid_volumes=1916, ask_orders=478, ask_volumes=3797),\n",
       " ChangePercentRank(date='2022-04-27', code='8454', name='富邦媒', ts=1651069800000000000, open=880.0, high=899.0, low=865.0, close=880.0, price_range=34.0, tick_type=2, change_price=-44.0, change_type=4, average_price=880.98, volume=44, total_volume=456, amount=38720000, total_amount=402269957, yesterday_volume=382, volume_ratio=1.19, buy_price=880.0, buy_volume=7, sell_price=881.0, sell_volume=1, bid_orders=162, bid_volumes=534, ask_orders=261, ask_volumes=1428),\n",
       " ChangePercentRank(date='2022-04-27', code='5904', name='寶雅', ts=1651069800000000000, open=340.0, high=347.5, low=319.5, close=321.0, price_range=28.0, tick_type=1, change_price=-34.0, change_type=4, average_price=328.49, volume=11, total_volume=307, amount=3531000, total_amount=100845437, yesterday_volume=369, volume_ratio=0.83, buy_price=320.0, buy_volume=5, sell_price=321.0, sell_volume=2, bid_orders=85, bid_volumes=302, ask_orders=193, ask_volumes=556)]"
      ]
     },
     "execution_count": 26,
     "metadata": {},
     "output_type": "execute_result"
    }
   ],
   "source": [
    "# 若要抓取當日下跌金額前五名的個股，則在呼叫scanners時，在參數中傳入ascending=False，即可依下跌金額抓取。\n",
    "change_price_rank_up = api.scanners(\n",
    "            scanner_type = sj.constant.ScannerType.ChangePriceRank,\n",
    "            count = 3,\n",
    "            date='2022-04-27',\n",
    "            ascending=False #遞增排序設為False，表示以反向排序方式抓取\n",
    "          )\n",
    "change_price_rank_up"
   ]
  },
  {
   "cell_type": "markdown",
   "metadata": {},
   "source": [
    "## Get Volume Rank\n",
    "\n",
    "VolumeRank是以total_volume總成交量做排行"
   ]
  },
  {
   "cell_type": "code",
   "execution_count": 6,
   "metadata": {},
   "outputs": [
    {
     "data": {
      "text/plain": [
       "ChangePercentRank(date='2022-04-27', code='2618', name='長榮航', ts=1651066200000000000, open=33.7, high=34.6, low=33.15, close=34.6, price_range=1.45, tick_type=1, change_price=-0.45, change_type=4, average_price=34.02, volume=7579, total_volume=194253, amount=262233400, total_amount=6608968250, yesterday_volume=263519, volume_ratio=0.74, buy_price=34.55, buy_volume=78, sell_price=34.6, sell_volume=87, bid_orders=12339, bid_volumes=999561, ask_orders=11047, ask_volumes=2309572)"
      ]
     },
     "execution_count": 6,
     "metadata": {},
     "output_type": "execute_result"
    }
   ],
   "source": [
    "scanner = api.scanners(\n",
    "            scanner_type = sj.constant.ScannerType.VolumeRank,\n",
    "            count = 1\n",
    "          )\n",
    "scanner[0]"
   ]
  },
  {
   "cell_type": "code",
   "execution_count": 15,
   "metadata": {},
   "outputs": [
    {
     "data": {
      "text/plain": [
       "[ChangePercentRank(date='2022-04-27', code='2618', name='長榮航', ts=1651069800000000000, open=33.7, high=34.6, low=33.15, close=34.6, price_range=1.45, tick_type=1, change_price=-0.45, change_type=4, average_price=34.02, volume=424, total_volume=194690, amount=14670400, total_amount=6624091733, yesterday_volume=263519, volume_ratio=0.74, buy_price=34.55, buy_volume=78, sell_price=34.6, sell_volume=87, bid_orders=12341, bid_volumes=1007564, ask_orders=11047, ask_volumes=2309572),\n",
       " ChangePercentRank(date='2022-04-27', code='3481', name='群創', ts=1651069800000000000, open=13.2, high=13.25, low=12.85, close=13.1, price_range=0.4, tick_type=1, change_price=-0.85, change_type=4, average_price=13.05, volume=274, total_volume=165162, amount=3589400, total_amount=2155703196, yesterday_volume=154498, volume_ratio=1.07, buy_price=13.05, buy_volume=3922, sell_price=13.1, sell_volume=869, bid_orders=6401, bid_volumes=375900, ask_orders=8174, ask_volumes=783604),\n",
       " ChangePercentRank(date='2022-04-27', code='2610', name='華航', ts=1651069800000000000, open=27.2, high=27.9, low=27.0, close=27.75, price_range=0.9, tick_type=1, change_price=-0.45, change_type=4, average_price=27.48, volume=552, total_volume=140571, amount=15318000, total_amount=3863349753, yesterday_volume=214490, volume_ratio=0.66, buy_price=27.7, buy_volume=640, sell_price=27.75, sell_volume=325, bid_orders=9368, bid_volumes=1148714, ask_orders=8956, ask_volumes=1611537)]"
      ]
     },
     "execution_count": 15,
     "metadata": {},
     "output_type": "execute_result"
    }
   ],
   "source": [
    "volume_rank = api.scanners(\n",
    "            scanner_type = sj.constant.ScannerType.VolumeRank,\n",
    "            count = 3,\n",
    "            date='2022-04-27'\n",
    "          )\n",
    "volume_rank"
   ]
  },
  {
   "cell_type": "markdown",
   "metadata": {},
   "source": [
    "## Get Change Percent Rank\n",
    "\n",
    "ChangePercentRank當日漲(跌)幅排行，是以當日上漲(下跌)幅度做排行，而幅度計算方式即為change_price上漲(下跌)金額/reference前一交易收盤價。"
   ]
  },
  {
   "cell_type": "code",
   "execution_count": 7,
   "metadata": {},
   "outputs": [
    {
     "data": {
      "text/plain": [
       "ChangePercentRank(date='2022-04-27', code='6598', name='ABC-KY', ts=1651066200000000000, open=41.15, high=46.75, low=41.15, close=46.75, price_range=5.6, tick_type=1, change_price=4.25, change_type=1, average_price=44.59, volume=44, total_volume=2318, amount=2057000, total_amount=103362500, yesterday_volume=2479, volume_ratio=0.94, buy_price=46.75, buy_volume=1726, sell_price=0.0, sell_volume=0, bid_orders=42, bid_volumes=1699, ask_orders=17, ask_volumes=748)"
      ]
     },
     "execution_count": 7,
     "metadata": {},
     "output_type": "execute_result"
    }
   ],
   "source": [
    "scanner = api.scanners(\n",
    "            scanner_type = sj.constant.ScannerType.ChangePercentRank,\n",
    "            count = 1\n",
    "          )\n",
    "scanner[0]"
   ]
  },
  {
   "cell_type": "code",
   "execution_count": 28,
   "metadata": {},
   "outputs": [
    {
     "data": {
      "text/plain": [
       "[ChangePercentRank(date='2022-04-27', code='6598', name='ABC-KY', ts=1651069800000000000, open=41.15, high=46.75, low=41.15, close=46.75, price_range=5.6, tick_type=1, change_price=4.25, change_type=1, average_price=44.61, volume=8, total_volume=2326, amount=374000, total_amount=103756368, yesterday_volume=2479, volume_ratio=0.94, buy_price=46.75, buy_volume=1726, sell_price=0.0, sell_volume=0, bid_orders=44, bid_volumes=1751, ask_orders=17, ask_volumes=748),\n",
       " ChangePercentRank(date='2022-04-27', code='3434', name='哲固', ts=1651069800000000000, open=36.35, high=40.15, low=36.3, close=40.15, price_range=3.85, tick_type=1, change_price=3.65, change_type=1, average_price=38.91, volume=3, total_volume=918, amount=120449, total_amount=35716524, yesterday_volume=700, volume_ratio=1.31, buy_price=40.05, buy_volume=2, sell_price=40.15, sell_volume=158, bid_orders=31, bid_volumes=666, ask_orders=27, ask_volumes=501),\n",
       " ChangePercentRank(date='2022-04-27', code='6461', name='益得', ts=1651069800000000000, open=20.8, high=23.65, low=20.5, close=23.65, price_range=3.15, tick_type=1, change_price=2.15, change_type=1, average_price=23.06, volume=1, total_volume=6413, amount=23650, total_amount=147879272, yesterday_volume=2243, volume_ratio=2.86, buy_price=23.65, buy_volume=774, sell_price=0.0, sell_volume=0, bid_orders=1174, bid_volumes=15243, ask_orders=638, ask_volumes=4298)]"
      ]
     },
     "execution_count": 28,
     "metadata": {},
     "output_type": "execute_result"
    }
   ],
   "source": [
    "# 抓取當日上漲幅度前三名的個股範例\n",
    "change_percent_rank_up = api.scanners(\n",
    "            scanner_type = sj.constant.ScannerType.ChangePercentRank,\n",
    "            count = 3,\n",
    "            date='2022-04-27'\n",
    "          )\n",
    "change_percent_rank_up"
   ]
  },
  {
   "cell_type": "code",
   "execution_count": 29,
   "metadata": {},
   "outputs": [
    {
     "data": {
      "text/plain": [
       "[ChangePercentRank(date='2022-04-27', code='5258', name='虹堡', ts=1651069800000000000, open=40.5, high=41.0, low=38.05, close=38.05, price_range=2.95, tick_type=2, change_price=-4.2, change_type=5, average_price=39.07, volume=28, total_volume=5860, amount=1065399, total_amount=228979465, yesterday_volume=4573, volume_ratio=1.28, buy_price=38.05, buy_volume=187, sell_price=38.1, sell_volume=17, bid_orders=683, bid_volumes=8965, ask_orders=1189, ask_volumes=11912),\n",
       " ChangePercentRank(date='2022-04-27', code='3011', name='今皓', ts=1651069800000000000, open=21.0, high=21.9, low=20.85, close=20.85, price_range=1.05, tick_type=1, change_price=-2.3, change_type=5, average_price=21.1, volume=10, total_volume=5853, amount=208500, total_amount=123502181, yesterday_volume=3811, volume_ratio=1.54, buy_price=0.0, buy_volume=0, sell_price=20.85, sell_volume=294, bid_orders=340, bid_volumes=2011, ask_orders=1021, ask_volumes=25488),\n",
       " ChangePercentRank(date='2022-04-27', code='8444', name='綠河-KY', ts=1651069800000000000, open=71.5, high=71.5, low=70.0, close=70.0, price_range=1.5, tick_type=1, change_price=-7.7, change_type=5, average_price=70.13, volume=1, total_volume=122, amount=70000, total_amount=8555740, yesterday_volume=118, volume_ratio=1.03, buy_price=0.0, buy_volume=0, sell_price=70.0, sell_volume=24, bid_orders=0, bid_volumes=0, ask_orders=68, ask_volumes=152)]"
      ]
     },
     "execution_count": 29,
     "metadata": {},
     "output_type": "execute_result"
    }
   ],
   "source": [
    "# 若要抓取當日下跌幅度前五名的個股，則在呼叫scanners時，在參數中傳入ascending=False，即可依下跌幅度抓取。\n",
    "change_percent_rank_up = api.scanners(\n",
    "            scanner_type = sj.constant.ScannerType.ChangePercentRank,\n",
    "            count = 3,\n",
    "            date='2022-04-27',\n",
    "            ascending=False #遞增排序設為False\n",
    "          )\n",
    "change_percent_rank_up"
   ]
  },
  {
   "cell_type": "markdown",
   "metadata": {},
   "source": [
    "## Get Day Range Rank\n",
    "\n",
    "DayRangeRank是以price_range價格變動區間做排行 (找出當日高低價差最多的)\n"
   ]
  },
  {
   "cell_type": "code",
   "execution_count": 8,
   "metadata": {},
   "outputs": [
    {
     "data": {
      "text/plain": [
       "ChangePercentRank(date='2022-04-27', code='5274', name='信驊', ts=1651066200000000000, open=2285.0, high=2540.0, low=2250.0, close=2540.0, price_range=290.0, tick_type=1, change_price=55.0, change_type=2, average_price=2430.53, volume=66, total_volume=606, amount=167640000, total_amount=1472900000, yesterday_volume=779, volume_ratio=0.78, buy_price=2540.0, buy_volume=1, sell_price=2545.0, sell_volume=6, bid_orders=262, bid_volumes=2171, ask_orders=318, ask_volumes=1746)"
      ]
     },
     "execution_count": 8,
     "metadata": {},
     "output_type": "execute_result"
    }
   ],
   "source": [
    "scanner = api.scanners(\n",
    "            scanner_type = sj.constant.ScannerType.DayRangeRank,\n",
    "            count=1\n",
    "          )\n",
    "scanner[0]"
   ]
  },
  {
   "cell_type": "code",
   "execution_count": 31,
   "metadata": {},
   "outputs": [
    {
     "data": {
      "text/plain": [
       "[ChangePercentRank(date='2022-04-27', code='5274', name='信驊', ts=1651069800000000000, open=2285.0, high=2540.0, low=2250.0, close=2540.0, price_range=290.0, tick_type=2, change_price=55.0, change_type=2, average_price=2430.53, volume=66, total_volume=606, amount=167640000, total_amount=1472912900, yesterday_volume=779, volume_ratio=0.78, buy_price=2540.0, buy_volume=1, sell_price=2545.0, sell_volume=6, bid_orders=263, bid_volumes=2237, ask_orders=318, ask_volumes=1746),\n",
       " ChangePercentRank(date='2022-04-27', code='6415', name='矽力-KY', ts=1651069800000000000, open=2385.0, high=2565.0, low=2385.0, close=2560.0, price_range=180.0, tick_type=1, change_price=0.0, change_type=3, average_price=2492.01, volume=61, total_volume=776, amount=156160000, total_amount=1934672830, yesterday_volume=1126, volume_ratio=0.69, buy_price=2555.0, buy_volume=3, sell_price=2560.0, sell_volume=9, bid_orders=309, bid_volumes=2299, ask_orders=415, ask_volumes=4515),\n",
       " ChangePercentRank(date='2022-04-27', code='3529', name='力旺', ts=1651069800000000000, open=1020.0, high=1130.0, low=1010.0, close=1130.0, price_range=120.0, tick_type=1, change_price=25.0, change_type=2, average_price=1060.3, volume=1, total_volume=1980, amount=1130000, total_amount=2099388580, yesterday_volume=2296, volume_ratio=0.86, buy_price=1125.0, buy_volume=3, sell_price=1130.0, sell_volume=10, bid_orders=529, bid_volumes=5288, ask_orders=888, ask_volumes=4937)]"
      ]
     },
     "execution_count": 31,
     "metadata": {},
     "output_type": "execute_result"
    }
   ],
   "source": [
    "day_range_rank = api.scanners(\n",
    "            scanner_type = sj.constant.ScannerType.DayRangeRank,\n",
    "            count = 3,\n",
    "            date='2022-04-27'\n",
    "          )\n",
    "day_range_rank"
   ]
  },
  {
   "cell_type": "code",
   "execution_count": 32,
   "metadata": {},
   "outputs": [],
   "source": [
    "# 透過Pandas將資料匯出成csv檔\n",
    "# 透過前面的範例，我們可以依自己的需求抓取每日排行的個股相關資料。所抓到的個股資料也可以透過Pandas將資料匯出成csv檔\n",
    "import os\n",
    "import shioaji as sj\n",
    "import pandas as pd\n",
    "\n",
    "# 取得當日價格變動範圍排行前五名個股資料\n",
    "day_range_rank = api.scanners(\n",
    "            scanner_type = sj.constant.ScannerType.DayRangeRank,\n",
    "            count = 3,\n",
    "            date='2022-04-27'\n",
    "          )\n",
    "day_range_rank_df = pd.DataFrame(day_range_rank) #將day_range_rank資料轉換為DataFrame\n",
    "day_range_rank_df.ts = pd.to_datetime(day_range_rank_df.ts)\n",
    "# 透過to_csv將DataFrame匯出為csv檔\n",
    "day_range_rank_df.to_csv('day_range_rank.csv', index=False, encoding=\"utf_8_sig\") \n",
    "# index=False，指的是在匯出檔案時，不產生index這個欄位，若要保留這個欄位資料，可以不傳入這個參數\n",
    "# Pandas在匯出csv時，預設的編碼字元是Unicode(UTF-8)，若使用Excel未指定字元直接開啟的話，\n",
    "# 會因為Excel無法辨識到正確的編碼字元而產生亂碼或資料錯誤的情形。\n",
    "# 若要讓Excel可以直接開啟csv檔，可在參數中加入「encoding=\"utf_8_sig\"」，將檔案的編碼字元設定為Unicode(UTF-8含BOM)，\n",
    "# 這樣Excel即可辨識到正確的編碼字元"
   ]
  },
  {
   "cell_type": "markdown",
   "metadata": {},
   "source": [
    "---\n",
    "### Prev: [Market Data / Credit Enquires](shioaji-market_data-credit_enquires.ipynb) Next: [Order / CA Signature](shioaji-order-ca_signature.ipynb)"
   ]
  }
 ],
 "metadata": {
  "interpreter": {
   "hash": "43e799a8c0c25cc01ad6496af7769d603e839830943cc4ee57aeca70952c0fbd"
  },
  "kernelspec": {
   "display_name": "Python 3.7.12 ('python3.7')",
   "language": "python",
   "name": "python3"
  },
  "language_info": {
   "codemirror_mode": {
    "name": "ipython",
    "version": 3
   },
   "file_extension": ".py",
   "mimetype": "text/x-python",
   "name": "python",
   "nbconvert_exporter": "python",
   "pygments_lexer": "ipython3",
   "version": "3.7.12"
  },
  "orig_nbformat": 4
 },
 "nbformat": 4,
 "nbformat_minor": 2
}
