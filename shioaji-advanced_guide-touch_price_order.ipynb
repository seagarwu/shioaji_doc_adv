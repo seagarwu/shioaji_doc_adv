{
 "cells": [
  {
   "cell_type": "markdown",
   "metadata": {
    "id": "BgyiwOTdDq0r"
   },
   "source": [
    "[![Open In Colab](https://colab.research.google.com/assets/colab-badge.svg)](https://colab.research.google.com/github/seagarwu/mynotebooks/blob/main/shioaji/shioaji_onlinedoc/shioaji-advanced_guide-touch_price_order.ipynb)"
   ]
  },
  {
   "cell_type": "markdown",
   "metadata": {},
   "source": [
    "# Touch Price Order\n",
    "Here is a simple example that how to build your price monitor and when price touches the condition will place the order.\n",
    "\n",
    "觸價單的設定是，先決定「觸發價」，這是交易人要動作(停損)的價格，再設定「取價」，這是指當市場價格觸及或穿過觸發價，轉成正式委託下到市場時，是要用「限價」、「範圍市價」或是「市價」，三者擇其一來掛出委託。"
   ]
  },
  {
   "cell_type": "code",
   "execution_count": null,
   "metadata": {
    "vscode": {
     "languageId": "plaintext"
    }
   },
   "outputs": [],
   "source": [
    "from pydantic import BaseModel\n",
    "\n",
    "class TouchOrderCond(BaseModel):\n",
    "    contract: Contract\n",
    "    order: Order\n",
    "    touch_price: float\n",
    "\n",
    "class TouchOrder:\n",
    "   def __init__(self, api: sj.Shioaji, condition: TouchOrderCond):\n",
    "       self.flag = False\n",
    "       self.api = api\n",
    "       self.order = condition.order\n",
    "       self.contract = condition.contract\n",
    "       self.touch_price = condition.touch_price\n",
    "       self.api.quote.subscribe(self.contract)\n",
    "       self.api.quote.set_quote_callback(self.touch)\n",
    "\n",
    "   def touch(self, topic, quote):\n",
    "       price = quote[\"Close\"][0]\n",
    "       if price == self.touch_price and not self.flag:\n",
    "           self.flag = True\n",
    "           self.api.place_order(self.contract, self.order)\n",
    "           self.api.quote.unsubscribe(self.contract)"
   ]
  },
  {
   "cell_type": "markdown",
   "metadata": {},
   "source": [
    "Complete [TouchPrice Order Extention](https://github.com/SsallyLin/touchprice) can be found here."
   ]
  },
  {
   "cell_type": "markdown",
   "metadata": {
    "id": "HZxA6vDcDq1H"
   },
   "source": [
    "---\n",
    "### Prev: [Advanced Guide / Non-blocking Mode](shioaji-advanced_guide-non_blocking_mode.ipynb) Next: [QA](https://sinotrade.github.io/qa/)"
   ]
  }
 ],
 "metadata": {
  "language_info": {
   "name": "python"
  },
  "orig_nbformat": 4
 },
 "nbformat": 4,
 "nbformat_minor": 2
}
