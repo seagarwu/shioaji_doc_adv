{
 "cells": [
  {
   "cell_type": "markdown",
   "metadata": {
    "id": "eEnAVQxYat7y"
   },
   "source": [
    "[![Open In Colab](https://colab.research.google.com/assets/colab-badge.svg)](https://colab.research.google.com/github/seagarwu/mynotebooks/blob/main/shioaji/shioaji_onlinedoc/shioaji-tutorial_user_guide.ipynb)"
   ]
  },
  {
   "cell_type": "markdown",
   "metadata": {
    "id": "2PMhMsbmat8O"
   },
   "source": [
    "# Tutorial - User Guide"
   ]
  },
  {
   "cell_type": "markdown",
   "metadata": {
    "id": "KOZKViyPat8O"
   },
   "source": [
    "## Login"
   ]
  },
  {
   "cell_type": "markdown",
   "metadata": {
    "id": "pNTVkIpdat8O"
   },
   "source": [
    "### Login Shioaji"
   ]
  },
  {
   "cell_type": "code",
   "execution_count": null,
   "metadata": {
    "id": "i-LK2__Hat8P",
    "outputId": "d15dcb95-4d5b-4949-9364-24d0e1cba95d"
   },
   "outputs": [
    {
     "name": "stdout",
     "output_type": "stream",
     "text": [
      "Response Code: 0 | Event Code: 0 | Info: host '203.66.91.161:80', hostname '203.66.91.161:80' IP 203.66.91.161:80 (host 1 of 1) (host connection attempt 1 of 1) (total connection attempt 1 of 1) | Event: Session up\n"
     ]
    },
    {
     "data": {
      "text/plain": [
       "[FutureAccount(person_id='R120732106', broker_id='F002002', account_id='8070913', signed=True, username='吳鼎榮'),\n",
       " FutureAccount(person_id='R120732106', broker_id='F002002', account_id='8071080', signed=True, username='吳鼎榮'),\n",
       " FutureAccount(person_id='R120732106', broker_id='F002002', account_id='8071378', signed=True, username='吳鼎榮')]"
      ]
     },
     "metadata": {},
     "output_type": "display_data"
    }
   ],
   "source": [
    "import shioaji as sj\n",
    "import getpass as gp\n",
    "user_id, user_pass = gp.getpass(\"USER ID: \"), gp.getpass(\"USER PASS: \")\n",
    "api = sj.Shioaji()\n",
    "api.login(\n",
    "    person_id=user_id,\n",
    "    passwd=user_pass,\n",
    "    contracts_cb=lambda security_type: print(f\"{repr(security_type)} fetch done.\")\n",
    ")"
   ]
  },
  {
   "cell_type": "code",
   "execution_count": null,
   "metadata": {
    "id": "3CVeLFGkat8P",
    "outputId": "451e06a4-c5c4-41f6-f681-87165b6cbb45"
   },
   "outputs": [
    {
     "data": {
      "text/plain": [
       "True"
      ]
     },
     "metadata": {},
     "output_type": "display_data"
    }
   ],
   "source": [
    "import tkinter as tk\n",
    "from tkinter import filedialog\n",
    "\n",
    "root = tk.Tk()\n",
    "root.withdraw()\n",
    "file_path = filedialog.askopenfilename()\n",
    "\n",
    "api.activate_ca(\n",
    "    ca_path = file_path,\n",
    "    ca_passwd = user_pass,\n",
    "    person_id = user_id,\n",
    ")"
   ]
  },
  {
   "cell_type": "markdown",
   "metadata": {
    "id": "bmHw0MAhat8Q"
   },
   "source": [
    "####  Default Account"
   ]
  },
  {
   "cell_type": "markdown",
   "metadata": {
    "id": "JUzmLQeJat8Q"
   },
   "source": [
    "##### List Accounts\n",
    "There are 2 ways you can get your accounts:\n",
    "1. api.login\n",
    "2. api.list_accounts"
   ]
  },
  {
   "cell_type": "code",
   "execution_count": null,
   "metadata": {
    "id": "9_qxoljXat8Q"
   },
   "outputs": [],
   "source": [
    "# api.login\n",
    "accounts = api.login(\n",
    "    person_id=\"YOUR_ID\", \n",
    "    passwd=\"YOUR_PASSWORD\", \n",
    ")"
   ]
  },
  {
   "cell_type": "code",
   "execution_count": null,
   "metadata": {
    "id": "OPvVYYtuat8R",
    "outputId": "6f048471-37d3-4e58-aeff-53645e0be80f"
   },
   "outputs": [
    {
     "data": {
      "text/plain": [
       "[FutureAccount(person_id='R120732106', broker_id='F002002', account_id='8070913', signed=True, username='吳鼎榮'),\n",
       " FutureAccount(person_id='R120732106', broker_id='F002002', account_id='8071080', signed=True, username='吳鼎榮'),\n",
       " FutureAccount(person_id='R120732106', broker_id='F002002', account_id='8071378', signed=True, username='吳鼎榮')]"
      ]
     },
     "metadata": {},
     "output_type": "display_data"
    }
   ],
   "source": [
    "# api.list_accounts\n",
    "accounts = api.list_accounts()\n",
    "accounts"
   ]
  },
  {
   "cell_type": "markdown",
   "metadata": {
    "id": "aJaAJQyKat8R"
   },
   "source": [
    "- Note that if your account hasn't been signed yet, ex: ACCOUNT_ID_2, ACCOUNT_ID_3, please sign the document first."
   ]
  },
  {
   "cell_type": "markdown",
   "metadata": {
    "id": "eAN2nLJBat8R"
   },
   "source": [
    "##### Default Account"
   ]
  },
  {
   "cell_type": "code",
   "execution_count": null,
   "metadata": {
    "id": "qne6tfjFat8S",
    "outputId": "a10bc238-bb0c-4c32-9c03-1e7092adf4b1"
   },
   "outputs": [
    {
     "name": "stdout",
     "output_type": "stream",
     "text": [
      "None\n",
      "person_id='R120732106' broker_id='F002002' account_id='8070913' signed=True username='吳鼎榮'\n"
     ]
    }
   ],
   "source": [
    "# Stock default account\n",
    "print(api.stock_account)\n",
    "\n",
    "# Futures default account\n",
    "print(api.futopt_account)"
   ]
  },
  {
   "cell_type": "markdown",
   "metadata": {
    "id": "NoCHM7Xbat8S"
   },
   "source": [
    "##### Default Account in Order\n",
    "In `Order` object, you need to specify which account you want to place order. For more information about `Order`, please refer to [Stock Order](#stocks) and [Futures Order](https://sinotrade.github.io/tutor/order/FutureOption/)."
   ]
  },
  {
   "cell_type": "code",
   "execution_count": null,
   "metadata": {
    "id": "PQ45W66aat8T"
   },
   "outputs": [],
   "source": [
    "# stock order\n",
    "order = api.Order(\n",
    "    price=12, \n",
    "    quantity=1, \n",
    "    action=sj.constant.Action.Buy, \n",
    "    price_type=sj.constant.StockPriceType.LMT, \n",
    "    order_type=sj.constant.TFTOrderType.ROD, \n",
    "    order_lot=sj.constant.TFTStockOrderLot.Common, \n",
    "    account=api.stock_account\n",
    ")\n",
    "\n",
    "# futures order\n",
    "order = api.Order(\n",
    "    action=sj.constant.Action.Buy,\n",
    "    price=10200,\n",
    "    quantity=1,\n",
    "    price_type=sj.constant.StockPriceType.LMT,\n",
    "    order_type=sj.constant.FuturesOrderType.ROD, \n",
    "    octype=sj.constant.FuturesOCType.Auto,\n",
    "    account=api.futopt_account\n",
    ")"
   ]
  },
  {
   "cell_type": "markdown",
   "metadata": {
    "id": "GTBH9H5qat8T"
   },
   "source": [
    "##### Set Default Account"
   ]
  },
  {
   "cell_type": "code",
   "execution_count": null,
   "metadata": {
    "id": "hdJEHJQaat8T",
    "outputId": "aff2e9f3-a31d-4f39-9079-41b4ab6f8d54"
   },
   "outputs": [
    {
     "name": "stdout",
     "output_type": "stream",
     "text": [
      "None\n",
      "person_id='R120732106' broker_id='F002002' account_id='8070913' signed=True username='吳鼎榮'\n"
     ]
    }
   ],
   "source": [
    "# stock default account\n",
    "api.set_default_account(accounts[-1])\n",
    "print(api.stock_account)\n",
    "\n",
    "# futures default account\n",
    "api.set_default_account(accounts[0])\n",
    "print(api.futopt_account)"
   ]
  },
  {
   "cell_type": "markdown",
   "metadata": {
    "id": "AOYbR11mat8U"
   },
   "source": [
    "#### set subscribe trade callback\n",
    "There are 2 ways you can set subscribe trade callback:\n",
    "1. api.login\n",
    "2. api.subscribe_trade and api.unsubscribe_trade"
   ]
  },
  {
   "cell_type": "code",
   "execution_count": null,
   "metadata": {
    "id": "NVJWsWokat8U"
   },
   "outputs": [],
   "source": [
    "# api.login\n",
    "api.login(\n",
    "    person_id=\"YOUR_ID\", \n",
    "    passwd=\"YOUR_PASSWORD\", \n",
    "    subscribe_trade=False,\n",
    "    )"
   ]
  },
  {
   "cell_type": "code",
   "execution_count": null,
   "metadata": {
    "id": "uZgh1i5pat8U",
    "outputId": "2d8d98ec-ccb0-4d8d-da3b-954508c696cf"
   },
   "outputs": [
    {
     "name": "stdout",
     "output_type": "stream",
     "text": [
      "person_id='R120732106' broker_id='F002002' account_id='8070913' signed=True username='吳鼎榮'\n"
     ]
    },
    {
     "data": {
      "text/plain": [
       "True"
      ]
     },
     "metadata": {},
     "output_type": "display_data"
    }
   ],
   "source": [
    "# api.subscribe_trade\n",
    "account = api.futopt_account\n",
    "print(account)\n",
    "api.subscribe_trade(account)"
   ]
  },
  {
   "cell_type": "code",
   "execution_count": null,
   "metadata": {
    "id": "jasSI8t1at8V"
   },
   "outputs": [],
   "source": [
    "# api.unsubscribe_trade\n",
    "api.unsubscribe_trade(account)"
   ]
  },
  {
   "cell_type": "markdown",
   "metadata": {
    "id": "pOUAcnsBat8V"
   },
   "source": [
    "**Note that**: * Default subscribe trade callback is True."
   ]
  },
  {
   "cell_type": "markdown",
   "metadata": {
    "id": "a_22EOHnat8W"
   },
   "source": [
    "### Logout Shioaji\n",
    "Logout funciton will close the connection between the client and the server.<br>\n",
    "In order to provide high quality services, starting from 2021/08/06, we've limit the number of connections used. It's a good practice to logout or to terminate the program when it is not in use."
   ]
  },
  {
   "cell_type": "code",
   "execution_count": null,
   "metadata": {
    "id": "GSWGkif9at8W",
    "outputId": "3b43515c-d2b9-4fc2-cf50-c2c6c2023404"
   },
   "outputs": [
    {
     "data": {
      "text/plain": [
       "True"
      ]
     },
     "metadata": {},
     "output_type": "display_data"
    }
   ],
   "source": [
    "api.logout()"
   ]
  },
  {
   "cell_type": "markdown",
   "metadata": {
    "id": "cvOZrYklat8W"
   },
   "source": [
    "## Contract"
   ]
  },
  {
   "cell_type": "markdown",
   "metadata": {
    "id": "IauHOffLat8X"
   },
   "source": [
    "### Login Fetch Contracts"
   ]
  },
  {
   "cell_type": "markdown",
   "metadata": {
    "id": "ZTKioHknat8X"
   },
   "source": [
    "#### [First, you need login.](#login)\n",
    "After login success we will start to fetch all kind of contract but fetching will not block other action. So how to know the fetch action is done ? We have status of contracts download that you can use `Contracts.status`."
   ]
  },
  {
   "cell_type": "markdown",
   "metadata": {
    "id": "os-QURb4at8X"
   },
   "source": [
    "**contracts_timeout**<br>\n",
    "If you set contracts_timeout inside `login` from 0 to 10000, it will block the fetch and wait 10 second until \n",
    "the contract is back.<br>\n",
    "If you set contract_cb (contract callback) as print, it will print \"SecurityType.Index, SecurityType.Stock, \n",
    "SecurityType.Future, SecurityType.Option \" until the contract is back.\n"
   ]
  },
  {
   "cell_type": "code",
   "execution_count": null,
   "metadata": {
    "id": "CHPpnNCoat8X"
   },
   "outputs": [],
   "source": [
    "api.login(\n",
    "    person_id='YOUR_ID', \n",
    "    passwd='YOUR_PASSWORD', \n",
    "    contracts_timeout=10000,\n",
    "    contracts_cb=print,\n",
    ") "
   ]
  },
  {
   "cell_type": "markdown",
   "metadata": {
    "id": "a4T6gzsuat8X"
   },
   "source": [
    "1. [Contracts的資料目前分為4大類](https://ithelp.ithome.com.tw/articles/10279819)：指數Index、股票Stock、期貨Future跟Option選擇權，在執行login()時，在登入成功後，shioaji會開始下載及初始化Contract資料。而contracts_cb這個參數，就是當上面4大類的Contract資料下載及初始完成後，就會執行contracts_cb中所傳入的function。\n",
    "2. 當api.login()時會以非同步方式抓取contracts並放到api.Contracts，但這需要時間，如果如同網頁所測試，在還沒抓完就直接讀取api.Contracts內容的話，會造成內容不完整的問題。我想這是contracts_timeout存在的原因，或者可以用網頁介紹的方法: 使用event.wait()等待抓取完成。"
   ]
  },
  {
   "cell_type": "code",
   "execution_count": null,
   "metadata": {
    "id": "TQMjL_9Kat8Y",
    "outputId": "9bb8e35b-6dcb-4a2a-8b6b-b9baedf88ec6"
   },
   "outputs": [
    {
     "name": "stdout",
     "output_type": "stream",
     "text": [
      "Response Code: 0 | Event Code: 0 | Info: host '203.66.91.161:80', hostname '203.66.91.161:80' IP 203.66.91.161:80 (host 1 of 1) (host connection attempt 1 of 1) (total connection attempt 1 of 1) | Event: Session up\n",
      "api.login is done...\n",
      "for loop is done...\n",
      "len(stock_list) is :41214\n"
     ]
    },
    {
     "data": {
      "text/plain": [
       "True"
      ]
     },
     "metadata": {},
     "output_type": "display_data"
    }
   ],
   "source": [
    "# 網頁介紹: 遇到api.Contracts抓取不完整的程式碼\n",
    "# Contracts.Stocks資料下載完成後所輸出的「SecurityType.Stock」訊息，卻是在for loop迴圈完成之後，\n",
    "# 這表示我們抓的Contracts.Stocks其實是不完整的\n",
    "# 實測時很多時候不會跑contracts_cb，不知道為什麼?!\n",
    "import shioaji as sj\n",
    "import pandas as pd\n",
    "import getpass as gp\n",
    "\n",
    "api = sj.Shioaji()\n",
    "user_id, user_pass = gp.getpass(\"USER ID: \"), gp.getpass(\"USER PASS: \")\n",
    "\n",
    "api.login(\n",
    "    person_id=user_id, \n",
    "    passwd=user_pass,\n",
    "    contracts_cb=lambda security_type: print(f\"{repr(security_type)} fetch done.\") #設定callback為print，即完成初始化時輸出至console\n",
    ")\n",
    "print('api.login is done...') #輸出目前執行的步驟至console\n",
    "stock_list = []\n",
    "\n",
    "for exchange in api.Contracts.Stocks:\n",
    "    for stock in exchange:\n",
    "        stock_list.append({**stock})\n",
    "\n",
    "print('for loop is done...') #輸出目前執行的步驟至console\n",
    "print(f'len(stock_list) is :{len(stock_list)}')\n",
    "\n",
    "api.logout()"
   ]
  },
  {
   "cell_type": "code",
   "execution_count": null,
   "metadata": {
    "id": "O98WIEEKat8Y",
    "outputId": "1d4f2ae2-6cbb-4f25-8515-85ef0586c48d"
   },
   "outputs": [
    {
     "name": "stdout",
     "output_type": "stream",
     "text": [
      "Response Code: 0 | Event Code: 0 | Info: host '203.66.91.161:80', hostname '203.66.91.161:80' IP 203.66.91.161:80 (host 1 of 1) (host connection attempt 1 of 1) (total connection attempt 1 of 1) | Event: Session up\n",
      "<SecurityType.Index: 'IND'> fetch done.\n",
      "<SecurityType.Future: 'FUT'> fetch done.\n",
      "api.login is done...\n",
      "<SecurityType.Stock: 'STK'> fetch done.\n",
      "<SecurityType.Option: 'OPT'> fetch done.\n",
      "final fetch done.\n",
      "start for loop...\n",
      "for loop is done...\n",
      "len(stock_list) is :41214\n",
      "41214\n",
      "41214\n",
      "df.to_csv is done...\n"
     ]
    },
    {
     "data": {
      "text/plain": [
       "True"
      ]
     },
     "metadata": {},
     "output_type": "display_data"
    }
   ],
   "source": [
    "# 網頁介紹: 遇到api.Contracts抓取不完整的程式碼 (解決方法。但實測時很多時候不會跑contracts_cb，就卡在event.wait()，不知道為什麼?!)\n",
    "import os\n",
    "import shioaji as sj\n",
    "from shioaji.constant import SecurityType #匯入SecurityType常數\n",
    "import pandas as pd\n",
    "import threading #匯入threading模組\n",
    "import getpass as gp\n",
    "\n",
    "event = threading.Event() #宣告event\n",
    "api = sj.Shioaji()\n",
    "user_id, user_pass = gp.getpass(\"USER ID: \"), gp.getpass(\"USER PASS: \")\n",
    "\n",
    "def my_cb(security_type):\n",
    "    print(f\"{repr(security_type)} fetch done.\")\n",
    "    #當Contracts.Stocks下載完成時，輸出訊息並執行event.set()\n",
    "    if security_type == SecurityType.Option:  # Option看起來才是最後一個\n",
    "        print('final fetch done.')\n",
    "        event.set() #讓原本wait的程式繼續執行\n",
    "\n",
    "api.login(\n",
    "    person_id=user_id, \n",
    "    passwd=user_pass,\n",
    "    contracts_cb=my_cb #指定callback為my_cb\n",
    ")\n",
    "print('api.login is done...')\n",
    "event.wait() #api.login執行完後，讓程式先進入等待\n",
    "stock_list = []\n",
    "print('start for loop...')\n",
    "for exchange in api.Contracts.Stocks:\n",
    "    for stock in exchange:\n",
    "        stock_list.append({**stock})\n",
    "\n",
    "print('for loop is done...')\n",
    "print(f'len(stock_list) is :{len(stock_list)}')\n",
    "df = pd.DataFrame(stock_list)\n",
    "print(len(df))\n",
    "print(len(stock_list))\n",
    "df.to_csv('stock_list.csv', index=False, encoding=\"utf_8_sig\")\n",
    "print('df.to_csv is done...')\n",
    "\n",
    "api.logout()"
   ]
  },
  {
   "cell_type": "markdown",
   "metadata": {
    "id": "wmgipTv7at8Z"
   },
   "source": [
    "**fetch_contract**<br>\n",
    "If fetch_contract inside `login` is set to TRUE, it will download contract again."
   ]
  },
  {
   "cell_type": "code",
   "execution_count": null,
   "metadata": {
    "id": "CQQSXTpmat8Z"
   },
   "outputs": [],
   "source": [
    "api.login(\n",
    "    person_id='YOUR_ID', \n",
    "    passwd='YOUR_PASSWORD', \n",
    "    fetch_contract=True,\n",
    ") "
   ]
  },
  {
   "cell_type": "markdown",
   "metadata": {
    "id": "RKMX-TKeat8a"
   },
   "source": [
    "### Contracts"
   ]
  },
  {
   "cell_type": "code",
   "execution_count": null,
   "metadata": {
    "id": "qGpesMBIat8a",
    "outputId": "7c28dd7a-1cf3-4024-fa7c-652b47101995"
   },
   "outputs": [
    {
     "data": {
      "text/plain": [
       "Contracts(Indexs=(OTC, TSE), Stocks=(OES, OTC, TSE), Futures=(BRF, BTF, CAF, CBF, CCF, CDF, CEF, CFF, CGF, CHF, CJF, CKF, CLF, CMF, CNF, CQF, CRF, CSF, CUF, CWF, CYF, CZF, DCF, DD1, DDF, DEF, DFF, DGF, DHF, DIF, DJF, DKF, DLF, DNF, DOF, DPF, DQF, DSF, DVF, DWF, DXF, DYF, DZF, E4F, EEF, EG1, EGF, EHF, EKF, EMF, EPF, ERF, EXF, EYF, EZF, F1F, FB1, FBF, FCF, FEF, FFF, FGF, FKF, FNF, FQF, FRF, FTF, FVF, FW1, FWF, FXF, FYF, FZF, G2F, GAF, GCF, GDF, GHF, GIF, GJF, GLF, GMF, GNF, GOF, GRF, GTF, GUF, GWF, GXF, GZF, HAF, HBF, HCF, HHF, HIF, HLF, HOF, HSF, IAF, IHF, IIF, IJF, IMF, IOF, IPF, IQF, IRF, ITF, IXF, IYF, IZF, JBF, JFF, JMF, JNF, JPF, JSF, JWF, JZF, KAF, KBF, KCF, KDF, KEF, KFF, KGF, KIF, KKF, KLF, KOF, KPF, KSF, KUF, KWF, LBF, LCF, LEF, LIF, LMF, LOF, LQF, LRF, LTF, LUF, LVF, LWF, LXF, LYF, MAF, MBF, MJF, MKF, MPF, MQF, MVF, MX2, MXF, MYF, NAF, NBF, NCF, NDF, NEF, NGF, NIF, NJF, NLF, NMF, NOF, NQF, NSF, NUF, NVF, NWF, NXF, NYF, NZF, OAF, OBF, OCF, ODF, OEF, OHF, OJF, OKF, OLF, OMF, OOF, OPF, OQ1, OQF, ORF, OSF, OTF, OUF, OVF, OWF, OXF, OYF, OZF, PAF, PBF, PCF, PDF, PEF, PFF, PGF, PHF, PIF, PJF, PKF, PLF, PMF, PNF, POF, PPF, PQF, PRF, PSF, PTF, PUF, PVF, PWF, PXF, PYF, PZF, QAF, QBF, QCF, QDF, QEF, QFF, QGF, QHF, QIF, QJF, QKF, QLF, QMF, QNF, QOF, QPF, QQF, QRF, QSF, QTF, QUF, RHF, RTF, SPF, T5F, TGF, TJF, TXF, UDF, UNF, XAF, XBF, XEF, XIF, XJF, ZEF, ZFF), Options=(CAO, CBO, CCO, CDA, CDO, CEO, CFO, CGO, CHO, CJO, CKO, CLO, CMO, CNO, CQO, CRO, CSO, CZO, DCO, DEO, DFO, DGO, DHO, DJO, DKO, DLO, DNO, DOO, DPO, DQO, DSO, DVO, DWO, DXO, GIO, GXO, HCO, IJO, LOO, NYO, NZO, OAO, OBO, OCO, OJO, OKO, OOO, OZO, QBO, RHO, RTO, TEO, TFO, TGO, TX2, TXO), status=<FetchStatus.Fetched: 'Fetched'>)"
      ]
     },
     "metadata": {},
     "output_type": "display_data"
    }
   ],
   "source": [
    "api.Contracts"
   ]
  },
  {
   "cell_type": "markdown",
   "metadata": {
    "id": "iFkGTz-oat8a"
   },
   "source": [
    "If your contracts have been downloaded, will see the output like above. If part of that kind contract download not yet, It will still be `None`."
   ]
  },
  {
   "cell_type": "markdown",
   "metadata": {
    "id": "5ZzH8dqxat8b"
   },
   "source": [
    "#### Stock Contract"
   ]
  },
  {
   "cell_type": "code",
   "execution_count": null,
   "metadata": {
    "id": "Re7wck8Kat8b",
    "outputId": "8052b477-d48f-45ea-c611-4af2f8fc44eb"
   },
   "outputs": [
    {
     "data": {
      "text/plain": [
       "Stock(exchange=<Exchange.TSE: 'TSE'>, code='2890', symbol='TSE2890', name='永豐金', category='17', unit=1000, limit_up=20.9, limit_down=17.1, reference=19.0, update_date='2022/04/12', day_trade=<DayTrade.Yes: 'Yes'>)"
      ]
     },
     "metadata": {},
     "output_type": "display_data"
    }
   ],
   "source": [
    "contract_2890 = api.Contracts.Stocks[\"2890\"]\n",
    "contract_2890"
   ]
  },
  {
   "cell_type": "markdown",
   "metadata": {
    "id": "vNpsRuCFat8c"
   },
   "source": [
    "> <details><summary>Attributes:</summary>\n",
    ">\n",
    "> exchange (Exchange): Attributes of industry.<br>\n",
    ">     {OES, OTC, TSE ...etc}<br>\n",
    "> code (str): Id.<br>\n",
    "> symbol (str): Symbol.<br>\n",
    "> name (str): Name.<br>\n",
    "> category (str): Category.<br>\n",
    "> limit_up (float): Limit up.<br>\n",
    "> limit_down (float): Limit down.<br>\n",
    "> reference (float): Reference price.<br>\n",
    "> update_date (str): Update date.<br>\n",
    "> margin_trading_balance (int): Margin trading balance.<br>\n",
    "> short_selling_balance (int): Short selling balance.<br>\n",
    "> day_trade (DayTrade): Day trade.<br>\n",
    ">     {Yes, No, OnlyBuy}<br>\n",
    "</details>"
   ]
  },
  {
   "cell_type": "markdown",
   "metadata": {
    "id": "xPNHdDjFat8c"
   },
   "source": [
    "#### Futures Contract"
   ]
  },
  {
   "cell_type": "code",
   "execution_count": null,
   "metadata": {
    "id": "0rro7JH9at8d",
    "outputId": "a8e740a6-a4b2-42fb-c08f-c9897b48e0ec"
   },
   "outputs": [
    {
     "data": {
      "text/plain": [
       "Future(code='MXFD2', symbol='MXF202204', name='小型臺指04', category='MXF', delivery_month='202204', delivery_date='2022/04/20', underlying_kind='I', unit=1, limit_up=18700.0, limit_down=15300.0, reference=17000.0, update_date='2022/04/13')"
      ]
     },
     "metadata": {},
     "output_type": "display_data"
    }
   ],
   "source": [
    "contract_txf = api.Contracts.Futures.MXF.MXF202204  # 等同 api.Contracts.Futures['MXFD2']\n",
    "contract_txf"
   ]
  },
  {
   "cell_type": "markdown",
   "metadata": {
    "id": "2b6XP9Diat8d"
   },
   "source": [
    "> <details><summary>Attributes:</summary>\n",
    ">\n",
    "> code (str): Id.<br>\n",
    "> symbol (str): Symbol.<br>\n",
    "> name (str): Name.<br>\n",
    "> category (str): Category.<br>\n",
    "> limit_up (float): Limit up.<br>\n",
    "> limit_down (float): Limit down.<br>\n",
    "> reference (float): Reference price.<br>\n",
    "> update_date (str): Update date.<br>\n",
    "> delivery_month (str): Delivery Month.<br>\n",
    "> underlying_kind (str): Underlying Kind.<br>\n",
    "</details>"
   ]
  },
  {
   "cell_type": "markdown",
   "metadata": {
    "id": "WAHxu335at8e"
   },
   "source": [
    "#### Options Contract"
   ]
  },
  {
   "cell_type": "markdown",
   "metadata": {
    "id": "XfwS4hv0at8f"
   },
   "source": [
    "##### Options object show all avaiable options product."
   ]
  },
  {
   "cell_type": "code",
   "execution_count": null,
   "metadata": {
    "id": "sXCmv0oCat8f",
    "outputId": "45b5a302-2736-4c96-bcf9-8eb0e910a71b"
   },
   "outputs": [
    {
     "data": {
      "text/plain": [
       "(CAO, CBO, CCO, CDO, CEO, CFO, CGO, CHO, CJO, CKO, CLO, CMO, CNO, CQO, CRO, CSO, CZO, DCO, DEO, DFO, DGO, DHO, DJO, DKO, DLO, DNO, DOO, DPO, DQO, DSO, DVO, DWO, DXO, GIO, GXO, HCO, IJO, LOO, NYO, NZO, OAO, OBO, OCO, OJO, OKO, OOO, OZO, QBO, RHO, RTO, TEO, TFO, TGO, TX1, TXO)"
      ]
     },
     "metadata": {},
     "output_type": "display_data"
    }
   ],
   "source": [
    "# 辨識號碼一覽表: https://isin.twse.com.tw/isin/C_public.jsp?strMode=6\n",
    "# 商品簡稱及英文代碼: https://www.taifex.com.tw/cht/4/contractName1\n",
    "# Get options by code.\n",
    "api.Contracts.Options"
   ]
  },
  {
   "cell_type": "code",
   "execution_count": null,
   "metadata": {
    "id": "n1ZF2vaZat8f",
    "outputId": "4826ecbb-6cc6-4303-ccfa-116727a370c3"
   },
   "outputs": [
    {
     "data": {
      "text/plain": [
       "TX1(TX1202205016000P, TX1202205016200P, TX1202205018100P, TX1202205016250P, TX1202205015850C, TX1202205017400C, TX1202205018200C, TX1202205018000C, TX1202205015600C, TX1202205016650P, TX1202205016550P, TX1202205015500P, TX1202205014900P, TX1202205015700C, TX1202205017050C, TX1202205016400C, TX1202205016900P, TX1202205016650C, TX1202205015600P, TX1202205017100P, TX1202205016400P, TX1202205017500P, TX1202205018000P, TX1202205016550C, TX1202205014800C, TX1202205014600C, TX1202205017000C, TX1202205018100C, TX1202205017500C, TX1202205015000P, TX1202205018400P, TX1202205016850C, TX1202205014800P, TX1202205018200P, TX1202205017900C, TX1202205018300P, TX1202205016250C, TX1202205017200P, TX1202205016150C, TX1202205016100P, TX1202205016300C, TX1202205016600C, TX1202205014700C, TX1202205014600P, TX1202205016800C, TX1202205016500C, TX1202205015300P, TX1202205016750C, TX1202205016050P, TX1202205016350P, TX1202205017400P, TX1202205016000C, TX1202205014700P, TX1202205015900P, TX1202205018400C, TX1202205015000C, TX1202205017300C, TX1202205016100C, TX1202205014900C, TX1202205015400C, TX1202205016450P, TX1202205015100P, TX1202205016950C, TX1202205015700P, TX1202205016200C, TX1202205015900C, TX1202205016700C, TX1202205016300P, TX1202205015950C, TX1202205016850P, TX1202205016600P, TX1202205015100C, TX1202205016950P, TX1202205015200P, TX1202205015200C, TX1202205016350C, TX1202205016050C, TX1202205015950P, TX1202205016700P, TX1202205015800C, TX1202205017700C, TX1202205017700P, TX1202205016800P, TX1202205017800C, TX1202205016150P, TX1202205016450C, TX1202205017600C, TX1202205017100C, TX1202205016750P, TX1202205015500C, TX1202205015800P, TX1202205017000P, TX1202205018300C, TX1202205016900C, TX1202205017900P, TX1202205016500P, TX1202205015300C, TX1202205015400P, TX1202205017050P, TX1202205017600P, TX1202205017800P, TX1202205017300P, TX1202205017200C, TX1202205015850P)"
      ]
     },
     "metadata": {},
     "output_type": "display_data"
    }
   ],
   "source": [
    "api.Contracts.Options.TX1"
   ]
  },
  {
   "cell_type": "markdown",
   "metadata": {},
   "source": [
    "##### Get options by symbol."
   ]
  },
  {
   "cell_type": "code",
   "execution_count": null,
   "metadata": {
    "id": "n1ZF2vaZat8f",
    "outputId": "4826ecbb-6cc6-4303-ccfa-116727a370c3"
   },
   "outputs": [
    {
     "data": {
      "text/plain": [
       "Option(code='TX114700E2', symbol='TX1202205014700C', name='臺指選擇權05W1月 14700C', category='TX1', delivery_month='202205', delivery_date='2022/05/04', strike_price=14700.0, option_right=<OptionRight.Call: 'C'>, underlying_kind='I', unit=1, limit_up=3350.0, limit_down=69.0, reference=1710.0, update_date='2022/04/29')"
      ]
     },
     "metadata": {},
     "output_type": "display_data"
    }
   ],
   "source": [
    "api.Contracts.Options.TX1.TX1202205014700C"
   ]
  },
  {
   "cell_type": "markdown",
   "metadata": {},
   "source": [
    "##### Get options by code."
   ]
  },
  {
   "cell_type": "code",
   "execution_count": null,
   "metadata": {
    "id": "sXCmv0oCat8f",
    "outputId": "45b5a302-2736-4c96-bcf9-8eb0e910a71b"
   },
   "outputs": [
    {
     "data": {
      "text/plain": [
       "Option(code='TX114700E2', symbol='TX1202205014700C', name='臺指選擇權05W1月 14700C', category='TX1', delivery_month='202205', delivery_date='2022/05/04', strike_price=14700.0, option_right=<OptionRight.Call: 'C'>, underlying_kind='I', unit=1, limit_up=3350.0, limit_down=69.0, reference=1710.0, update_date='2022/04/29')"
      ]
     },
     "metadata": {},
     "output_type": "display_data"
    }
   ],
   "source": [
    "api.Contracts.Options[\"TX114700E2\"]"
   ]
  },
  {
   "cell_type": "markdown",
   "metadata": {
    "id": "KJXdeh3Gat8g"
   },
   "source": [
    "> Get put options with readable way.<br>\n",
    "> \n",
    "> <details><summary>Attributes:</summary>\n",
    "> code (str): Id.<br>\n",
    "> symbol (str): Symbol.<br>\n",
    "> name (str): Name.<br>\n",
    "> category (str): Category.<br>\n",
    "> limit_up (float): Limit up.<br>\n",
    "> limit_down (float): Limit down.<br>\n",
    "> reference (float): Reference price.<br>\n",
    "> update_date (str): Update date.<br>\n",
    "> delivery_month (str): Delivery Month.<br>\n",
    "> strike_price (int or float): Strike Price.<br>\n",
    "> option_right (OptionRight): Option Right.<br>\n",
    "> underlying_kind (str): Underlying Kind.<br>\n",
    "</details>"
   ]
  },
  {
   "cell_type": "markdown",
   "metadata": {
    "id": "L8l-Yd3dat8g"
   },
   "source": [
    "#### Index Contract"
   ]
  },
  {
   "cell_type": "code",
   "execution_count": null,
   "metadata": {
    "id": "6oLrHSD4at8h",
    "outputId": "a2bcda9b-a8bb-4fbf-a682-1de2ff4a3160"
   },
   "outputs": [
    {
     "data": {
      "text/plain": [
       "TSE(TSE001, TSE002, TSE003, TSE004, TSE005, TSE006, TSE008, TSE010, TSE015, TSE016, TSE017, TSE018, TSE019, TSE020, TSE021, TSE022, TSE023, TSE024, TSE025, TSE026, TSE027, TSE028, TSE029, TSE030, TSE031, TSE032, TSE033, TSE034, TSE035, TSE036, TSE037, TSE038, TSE039, TSE040, TSE041, TSE042, TSE043, TSE053, TSE054, TSE055, TSE056, TSE057, TSE058, TSE059, TSE060, TSE061, TSE062, TSE064, TSE065, TSE066, TSE067, TSE068, TSE069, TSE070, TSE071, TSE072, TSE073, TSE074, TSE075, TSE076, TSE077, TSE078, TSE079, TSE081, TSE082, TSE083, TSE084, TSE085, TSE086, TSE087, TSE088, TSE089, TSE090, TSE091, TSE092, TSE093, TSE094, TSE095, TSE096, TSE097, TSE098, TSE099)"
      ]
     },
     "metadata": {},
     "output_type": "display_data"
    }
   ],
   "source": [
    "api.Contracts.Indexs.TSE"
   ]
  },
  {
   "cell_type": "code",
   "execution_count": null,
   "metadata": {
    "id": "wAwvfzD8at8h",
    "outputId": "54b69ebf-c71c-4683-9a6d-889a35f3c6af"
   },
   "outputs": [
    {
     "data": {
      "text/plain": [
       "Index(exchange=<Exchange.TSE: 'TSE'>, code='001', symbol='TSE001', name='加權指數')"
      ]
     },
     "metadata": {},
     "output_type": "display_data"
    }
   ],
   "source": [
    "api.Contracts.Indexs.TSE.TSE001"
   ]
  },
  {
   "cell_type": "markdown",
   "metadata": {
    "id": "QlDIPgIEat8i"
   },
   "source": [
    "> Attributes:<br>\n",
    ">\n",
    "> exchange (Exchange): Attributes of industry.<br>\n",
    ">     {OES, OTC, TSE ...etc}<br>\n",
    "> code (str): Id.<br>\n",
    "> symbol (str): Symbol.<br>\n",
    "> name (str): Name.<br>\n",
    "> \n",
    "> This contract is not avaiable to place order, but allow to subscribe the quote. It will be disuccess at next topic."
   ]
  },
  {
   "cell_type": "markdown",
   "metadata": {
    "id": "dCbnJNH9at8i"
   },
   "source": [
    "### Conclusion\n",
    "Contract object will be used by a lot of place like place order and subscribe quote etc... So Keep in mind how to get the contract you want to use."
   ]
  },
  {
   "cell_type": "markdown",
   "metadata": {
    "id": "hHbn7QDnat8j"
   },
   "source": [
    "---\n",
    "### Prev: [Quick Start](shioaji-quick_start.ipynb) Next: [Market Data / Streaming Market Data](shioaji-market_data-streaming_market_data.ipynb)"
   ]
  }
 ],
 "metadata": {
  "language_info": {
   "name": "python"
  },
  "orig_nbformat": 4
 },
 "nbformat": 4,
 "nbformat_minor": 2
}
