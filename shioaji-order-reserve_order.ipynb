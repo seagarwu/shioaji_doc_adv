{
 "cells": [
  {
   "cell_type": "markdown",
   "metadata": {},
   "source": [
    "[![Open In Colab](https://colab.research.google.com/assets/colab-badge.svg)](https://colab.research.google.com/github/seagarwu/mynotebooks/blob/main/shioaji/shioaji_onlinedoc/shioaji-order-reserve_order.ipynb)"
   ]
  },
  {
   "cell_type": "markdown",
   "metadata": {},
   "source": [
    "# Reserve Order\n",
    "不知道這是什麼功能，目前也沒看到有網頁在介紹它"
   ]
  },
  {
   "cell_type": "markdown",
   "metadata": {},
   "source": [
    "## First, you need to [login](shioaji-quick_start.ipynb) and [activate CA](shioaji-order-ca_signature.ipynb)."
   ]
  },
  {
   "cell_type": "code",
   "execution_count": 3,
   "metadata": {},
   "outputs": [
    {
     "name": "stdout",
     "output_type": "stream",
     "text": [
      "Response Code: 0 | Event Code: 0 | Info: host '203.66.91.161:80', hostname '203.66.91.161:80' IP 203.66.91.161:80 (host 1 of 1) (host connection attempt 1 of 1) (total connection attempt 1 of 1) | Event: Session up\n"
     ]
    }
   ],
   "source": [
    "import shioaji as sj\n",
    "import getpass as gp\n",
    "\n",
    "api = sj.Shioaji()\n",
    "user_id, user_pass = gp.getpass(\"USER ID: \"), gp.getpass(\"USER PASS: \")\n",
    "accounts = api.login(user_id, user_pass)"
   ]
  },
  {
   "cell_type": "code",
   "execution_count": 22,
   "metadata": {
    "id": "qWf5tBzxat8F",
    "outputId": "318558d3-1886-4b9d-c0c5-53e0710d4bb8"
   },
   "outputs": [
    {
     "data": {
      "text/plain": [
       "True"
      ]
     },
     "execution_count": 22,
     "metadata": {},
     "output_type": "execute_result"
    }
   ],
   "source": [
    "import tkinter as tk\n",
    "from tkinter import filedialog\n",
    "\n",
    "root = tk.Tk()\n",
    "root.withdraw()\n",
    "file_path = filedialog.askopenfilename()\n",
    "\n",
    "api.activate_ca(\n",
    "    ca_path = file_path,\n",
    "    ca_passwd = user_pass,\n",
    "    person_id = user_id,\n",
    ")"
   ]
  },
  {
   "cell_type": "markdown",
   "metadata": {},
   "source": [
    "## Get Stock Reserve Summay Status"
   ]
  },
  {
   "cell_type": "code",
   "execution_count": 19,
   "metadata": {},
   "outputs": [
    {
     "data": {
      "text/plain": [
       "FutureAccount(person_id='R120732106', broker_id='F002002', account_id='8070913', signed=True, username='吳鼎榮')"
      ]
     },
     "execution_count": 19,
     "metadata": {},
     "output_type": "execute_result"
    }
   ],
   "source": [
    "accounts = api.list_accounts()\n",
    "account = accounts[0]\n",
    "account"
   ]
  },
  {
   "cell_type": "code",
   "execution_count": 20,
   "metadata": {},
   "outputs": [
    {
     "data": {
      "text/plain": [
       "ReserveStocksSummaryResponse(response=ReserveStocksSummary(stocks=[], account=FutureAccount(person_id='R120732106', broker_id='F002002', account_id='8070913', signed=True, username='吳鼎榮')), error=ErrorResponse(status_code='417', detail='保管劃撥契約書簽署資料失敗'))"
      ]
     },
     "execution_count": 20,
     "metadata": {},
     "output_type": "execute_result"
    }
   ],
   "source": [
    "reserve_summary_resp = api.stock_reserve_summary(account)\n",
    "reserve_summary_resp"
   ]
  },
  {
   "cell_type": "markdown",
   "metadata": {},
   "source": [
    "## Reserve Stock"
   ]
  },
  {
   "cell_type": "code",
   "execution_count": 24,
   "metadata": {},
   "outputs": [
    {
     "data": {
      "text/plain": [
       "ReserveStockResponse(response=ReserveOrderResp(contract=Stock(exchange=<Exchange.TSE: 'TSE'>, code='2330', symbol='TSE2330', name='台積電', category='24', unit=1000, limit_up=584.0, limit_down=478.0, reference=531.0, update_date='2022/04/29', margin_trading_balance=1411, short_selling_balance=323, day_trade=<DayTrade.Yes: 'Yes'>), account=StockAccount(account_type=<AccountType.Future: 'F'>, person_id='R120732106', broker_id='F002002', account_id='8070913', signed=True), share=1000, status=False, info='保管劃撥契約書簽署資料失敗'))"
      ]
     },
     "execution_count": 24,
     "metadata": {},
     "output_type": "execute_result"
    }
   ],
   "source": [
    "contract = api.Contracts.Stocks[\"2330\"]\n",
    "resp = api.reserve_stock(account, contract, 1000)\n",
    "resp"
   ]
  },
  {
   "cell_type": "markdown",
   "metadata": {},
   "source": [
    "## Get Stock Reserve Detail Satus"
   ]
  },
  {
   "cell_type": "code",
   "execution_count": 25,
   "metadata": {},
   "outputs": [
    {
     "ename": "TimeoutError",
     "evalue": "StatusCode: 408, Detail: Timeout 408 Topic: api/v1/order/earmarking_detail, ExtraInfo: {'account': {'account_type': 'F', 'person_id': 'R120732106', 'broker_id': 'F002002', 'account_id': '8070913', 'signed': True, 'username': '吳鼎榮'}}",
     "output_type": "error",
     "traceback": [
      "\u001b[1;31m---------------------------------------------------------------------------\u001b[0m",
      "\u001b[1;31mTimeoutError\u001b[0m                              Traceback (most recent call last)",
      "\u001b[1;32m~\\AppData\\Local\\Temp\\ipykernel_8296\\1542469456.py\u001b[0m in \u001b[0;36m<module>\u001b[1;34m\u001b[0m\n\u001b[1;32m----> 1\u001b[1;33m \u001b[0mresp\u001b[0m \u001b[1;33m=\u001b[0m \u001b[0mapi\u001b[0m\u001b[1;33m.\u001b[0m\u001b[0mearmarking_detail\u001b[0m\u001b[1;33m(\u001b[0m\u001b[0maccount\u001b[0m\u001b[1;33m)\u001b[0m\u001b[1;33m\u001b[0m\u001b[1;33m\u001b[0m\u001b[0m\n\u001b[0m\u001b[0;32m      2\u001b[0m \u001b[0mresp\u001b[0m\u001b[1;33m\u001b[0m\u001b[1;33m\u001b[0m\u001b[0m\n",
      "\u001b[1;32m~\\anaconda3\\envs\\python3.7\\lib\\site-packages\\shioaji\\shioaji.py\u001b[0m in \u001b[0;36mearmarking_detail\u001b[1;34m(self, account, timeout, cb)\u001b[0m\n\u001b[0;32m    598\u001b[0m         \u001b[0mcb\u001b[0m\u001b[1;33m:\u001b[0m \u001b[0mtyping\u001b[0m\u001b[1;33m.\u001b[0m\u001b[0mCallable\u001b[0m\u001b[1;33m[\u001b[0m\u001b[1;33m[\u001b[0m\u001b[0mEarmarkStocksDetailResponse\u001b[0m\u001b[1;33m]\u001b[0m\u001b[1;33m,\u001b[0m \u001b[1;32mNone\u001b[0m\u001b[1;33m]\u001b[0m \u001b[1;33m=\u001b[0m \u001b[1;32mNone\u001b[0m\u001b[1;33m,\u001b[0m\u001b[1;33m\u001b[0m\u001b[1;33m\u001b[0m\u001b[0m\n\u001b[0;32m    599\u001b[0m     ) -> EarmarkStocksDetailResponse:\n\u001b[1;32m--> 600\u001b[1;33m         \u001b[0mresp\u001b[0m \u001b[1;33m=\u001b[0m \u001b[0mself\u001b[0m\u001b[1;33m.\u001b[0m\u001b[0m_solace\u001b[0m\u001b[1;33m.\u001b[0m\u001b[0mearmarking_detail\u001b[0m\u001b[1;33m(\u001b[0m\u001b[0maccount\u001b[0m\u001b[1;33m,\u001b[0m \u001b[0mtimeout\u001b[0m\u001b[1;33m,\u001b[0m \u001b[0mcb\u001b[0m\u001b[1;33m)\u001b[0m\u001b[1;33m\u001b[0m\u001b[1;33m\u001b[0m\u001b[0m\n\u001b[0m\u001b[0;32m    601\u001b[0m         \u001b[1;32mreturn\u001b[0m \u001b[0mresp\u001b[0m\u001b[1;33m\u001b[0m\u001b[1;33m\u001b[0m\u001b[0m\n\u001b[0;32m    602\u001b[0m \u001b[1;33m\u001b[0m\u001b[0m\n",
      "\u001b[1;32mshioaji\\backend\\solace\\api.pyx\u001b[0m in \u001b[0;36mshioaji.backend.solace.api.SolaceAPI.earmarking_detail\u001b[1;34m()\u001b[0m\n",
      "\u001b[1;31mTimeoutError\u001b[0m: StatusCode: 408, Detail: Timeout 408 Topic: api/v1/order/earmarking_detail, ExtraInfo: {'account': {'account_type': 'F', 'person_id': 'R120732106', 'broker_id': 'F002002', 'account_id': '8070913', 'signed': True, 'username': '吳鼎榮'}}"
     ]
    }
   ],
   "source": [
    "resp = api.earmarking_detail(account)\n",
    "resp"
   ]
  },
  {
   "cell_type": "markdown",
   "metadata": {},
   "source": [
    "## Reserve Earmarking"
   ]
  },
  {
   "cell_type": "code",
   "execution_count": null,
   "metadata": {},
   "outputs": [],
   "source": [
    "contract = api.Contracts.Stocks[\"2330\"]\n",
    "resp = api.reserve_earmarking(account, contract, 1000, 15.15)\n",
    "resp"
   ]
  },
  {
   "cell_type": "code",
   "execution_count": 27,
   "metadata": {},
   "outputs": [
    {
     "ename": "TimeoutError",
     "evalue": "StatusCode: 408, Detail: Timeout 408 Topic: api/v1/order/earmarking_detail, ExtraInfo: {'account': {'account_type': 'F', 'person_id': 'R120732106', 'broker_id': 'F002002', 'account_id': '8070913', 'signed': True, 'username': '吳鼎榮'}}",
     "output_type": "error",
     "traceback": [
      "\u001b[1;31m---------------------------------------------------------------------------\u001b[0m",
      "\u001b[1;31mTimeoutError\u001b[0m                              Traceback (most recent call last)",
      "\u001b[1;32m~\\AppData\\Local\\Temp\\ipykernel_8296\\3449121902.py\u001b[0m in \u001b[0;36m<module>\u001b[1;34m\u001b[0m\n\u001b[1;32m----> 1\u001b[1;33m \u001b[0mapi\u001b[0m\u001b[1;33m.\u001b[0m\u001b[0mearmarking_detail\u001b[0m\u001b[1;33m(\u001b[0m\u001b[0maccount\u001b[0m\u001b[1;33m)\u001b[0m\u001b[1;33m\u001b[0m\u001b[1;33m\u001b[0m\u001b[0m\n\u001b[0m",
      "\u001b[1;32m~\\anaconda3\\envs\\python3.7\\lib\\site-packages\\shioaji\\shioaji.py\u001b[0m in \u001b[0;36mearmarking_detail\u001b[1;34m(self, account, timeout, cb)\u001b[0m\n\u001b[0;32m    598\u001b[0m         \u001b[0mcb\u001b[0m\u001b[1;33m:\u001b[0m \u001b[0mtyping\u001b[0m\u001b[1;33m.\u001b[0m\u001b[0mCallable\u001b[0m\u001b[1;33m[\u001b[0m\u001b[1;33m[\u001b[0m\u001b[0mEarmarkStocksDetailResponse\u001b[0m\u001b[1;33m]\u001b[0m\u001b[1;33m,\u001b[0m \u001b[1;32mNone\u001b[0m\u001b[1;33m]\u001b[0m \u001b[1;33m=\u001b[0m \u001b[1;32mNone\u001b[0m\u001b[1;33m,\u001b[0m\u001b[1;33m\u001b[0m\u001b[1;33m\u001b[0m\u001b[0m\n\u001b[0;32m    599\u001b[0m     ) -> EarmarkStocksDetailResponse:\n\u001b[1;32m--> 600\u001b[1;33m         \u001b[0mresp\u001b[0m \u001b[1;33m=\u001b[0m \u001b[0mself\u001b[0m\u001b[1;33m.\u001b[0m\u001b[0m_solace\u001b[0m\u001b[1;33m.\u001b[0m\u001b[0mearmarking_detail\u001b[0m\u001b[1;33m(\u001b[0m\u001b[0maccount\u001b[0m\u001b[1;33m,\u001b[0m \u001b[0mtimeout\u001b[0m\u001b[1;33m,\u001b[0m \u001b[0mcb\u001b[0m\u001b[1;33m)\u001b[0m\u001b[1;33m\u001b[0m\u001b[1;33m\u001b[0m\u001b[0m\n\u001b[0m\u001b[0;32m    601\u001b[0m         \u001b[1;32mreturn\u001b[0m \u001b[0mresp\u001b[0m\u001b[1;33m\u001b[0m\u001b[1;33m\u001b[0m\u001b[0m\n\u001b[0;32m    602\u001b[0m \u001b[1;33m\u001b[0m\u001b[0m\n",
      "\u001b[1;32mshioaji\\backend\\solace\\api.pyx\u001b[0m in \u001b[0;36mshioaji.backend.solace.api.SolaceAPI.earmarking_detail\u001b[1;34m()\u001b[0m\n",
      "\u001b[1;31mTimeoutError\u001b[0m: StatusCode: 408, Detail: Timeout 408 Topic: api/v1/order/earmarking_detail, ExtraInfo: {'account': {'account_type': 'F', 'person_id': 'R120732106', 'broker_id': 'F002002', 'account_id': '8070913', 'signed': True, 'username': '吳鼎榮'}}"
     ]
    }
   ],
   "source": [
    "api.earmarking_detail(account)"
   ]
  },
  {
   "cell_type": "markdown",
   "metadata": {},
   "source": [
    "## Example for Reserve All Stock"
   ]
  },
  {
   "cell_type": "code",
   "execution_count": 28,
   "metadata": {},
   "outputs": [
    {
     "ename": "NameError",
     "evalue": "name 'AccountType' is not defined",
     "output_type": "error",
     "traceback": [
      "\u001b[1;31m---------------------------------------------------------------------------\u001b[0m",
      "\u001b[1;31mNameError\u001b[0m                                 Traceback (most recent call last)",
      "\u001b[1;32m~\\AppData\\Local\\Temp\\ipykernel_8296\\416081874.py\u001b[0m in \u001b[0;36m<module>\u001b[1;34m\u001b[0m\n\u001b[0;32m      1\u001b[0m \u001b[1;32mfor\u001b[0m \u001b[0maccount\u001b[0m \u001b[1;32min\u001b[0m \u001b[0maccounts\u001b[0m\u001b[1;33m:\u001b[0m\u001b[1;33m\u001b[0m\u001b[1;33m\u001b[0m\u001b[0m\n\u001b[1;32m----> 2\u001b[1;33m     \u001b[1;32mif\u001b[0m \u001b[0maccount\u001b[0m\u001b[1;33m.\u001b[0m\u001b[0maccount_type\u001b[0m \u001b[1;33m==\u001b[0m \u001b[0mAccountType\u001b[0m\u001b[1;33m.\u001b[0m\u001b[0mStock\u001b[0m\u001b[1;33m:\u001b[0m\u001b[1;33m\u001b[0m\u001b[1;33m\u001b[0m\u001b[0m\n\u001b[0m\u001b[0;32m      3\u001b[0m         \u001b[0mreserve_summary_resp\u001b[0m \u001b[1;33m=\u001b[0m \u001b[0mapi\u001b[0m\u001b[1;33m.\u001b[0m\u001b[0mstock_reserve_summary\u001b[0m\u001b[1;33m(\u001b[0m\u001b[0maccount\u001b[0m\u001b[1;33m)\u001b[0m\u001b[1;33m\u001b[0m\u001b[1;33m\u001b[0m\u001b[0m\n\u001b[0;32m      4\u001b[0m         \u001b[1;32mfor\u001b[0m \u001b[0mreserve_stock_summary\u001b[0m \u001b[1;32min\u001b[0m \u001b[0mreserve_summary_resp\u001b[0m\u001b[1;33m.\u001b[0m\u001b[0mresponse\u001b[0m\u001b[1;33m.\u001b[0m\u001b[0mstocks\u001b[0m\u001b[1;33m:\u001b[0m\u001b[1;33m\u001b[0m\u001b[1;33m\u001b[0m\u001b[0m\n\u001b[0;32m      5\u001b[0m                 \u001b[1;32mif\u001b[0m \u001b[0mreserve_stock_summary\u001b[0m\u001b[1;33m.\u001b[0m\u001b[0mavailable_share\u001b[0m\u001b[1;33m:\u001b[0m\u001b[1;33m\u001b[0m\u001b[1;33m\u001b[0m\u001b[0m\n",
      "\u001b[1;31mNameError\u001b[0m: name 'AccountType' is not defined"
     ]
    }
   ],
   "source": [
    "for account in accounts:\n",
    "    if account.account_type == AccountType.Stock:\n",
    "        reserve_summary_resp = api.stock_reserve_summary(account)\n",
    "        for reserve_stock_summary in reserve_summary_resp.response.stocks:\n",
    "                if reserve_stock_summary.available_share:\n",
    "                    resp = api.reserve_stock(\n",
    "                        account, \n",
    "                        reserve_stock_summary.contract,\n",
    "                        reserve_stock_summary.available_share\n",
    "                    )"
   ]
  },
  {
   "cell_type": "markdown",
   "metadata": {},
   "source": [
    "---\n",
    "### Prev: [Order / Update Status](shioaji-order-update_status.ipynb) Next: [Order / Combo](shioaji-order-combo.ipynb)"
   ]
  }
 ],
 "metadata": {
  "interpreter": {
   "hash": "43e799a8c0c25cc01ad6496af7769d603e839830943cc4ee57aeca70952c0fbd"
  },
  "kernelspec": {
   "display_name": "Python 3.7.12 ('python3.7')",
   "language": "python",
   "name": "python3"
  },
  "language_info": {
   "codemirror_mode": {
    "name": "ipython",
    "version": 3
   },
   "file_extension": ".py",
   "mimetype": "text/x-python",
   "name": "python",
   "nbconvert_exporter": "python",
   "pygments_lexer": "ipython3",
   "version": "3.7.12"
  },
  "orig_nbformat": 4
 },
 "nbformat": 4,
 "nbformat_minor": 2
}
