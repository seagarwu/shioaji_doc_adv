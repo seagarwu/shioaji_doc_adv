{
 "cells": [
  {
   "cell_type": "markdown",
   "metadata": {},
   "source": [
    "[![Open In Colab](https://colab.research.google.com/assets/colab-badge.svg)](https://colab.research.google.com/github/seagarwu/mynotebooks/blob/main/shioaji/shioaji_onlinedoc/shioaji-market_data-credit_enquires.ipynb)"
   ]
  },
  {
   "cell_type": "markdown",
   "metadata": {},
   "source": [
    "# Credit Enquires"
   ]
  },
  {
   "cell_type": "markdown",
   "metadata": {},
   "source": [
    "## [First, you need login.](shioaji-quick_start.ipynb)"
   ]
  },
  {
   "cell_type": "code",
   "execution_count": 1,
   "metadata": {},
   "outputs": [
    {
     "name": "stdout",
     "output_type": "stream",
     "text": [
      "Response Code: 0 | Event Code: 0 | Info: host '203.66.91.161:80', hostname '203.66.91.161:80' IP 203.66.91.161:80 (host 1 of 1) (host connection attempt 1 of 1) (total connection attempt 1 of 1) | Event: Session up\n"
     ]
    }
   ],
   "source": [
    "import shioaji as sj\n",
    "import getpass as gp\n",
    "\n",
    "api = sj.Shioaji()\n",
    "user_id, user_pass = gp.getpass(\"USER ID: \"), gp.getpass(\"USER PASS: \")\n",
    "accounts = api.login(user_id, user_pass)"
   ]
  },
  {
   "cell_type": "markdown",
   "metadata": {},
   "source": [
    "## Get Credit Enquires\n",
    "可查特定股票的資券餘額"
   ]
  },
  {
   "cell_type": "code",
   "execution_count": 2,
   "metadata": {},
   "outputs": [
    {
     "data": {
      "text/plain": [
       "[CreditEnquire(update_time='2022-04-27 13:18:41', system='HE', stock_id='2330', margin_unit=1339),\n",
       " CreditEnquire(update_time='2022-04-27 13:30:05', system='HF', stock_id='2330', margin_unit=1331),\n",
       " CreditEnquire(update_time='2022-04-27 13:18:41', system='HC', stock_id='2330', margin_unit=1340, short_unit=308),\n",
       " CreditEnquire(update_time='2022-04-27 13:30:09', system='HN', stock_id='2330', margin_unit=1348),\n",
       " CreditEnquire(update_time='2022-03-18 17:52:31', system='HD', stock_id='2330', margin_unit=4, short_unit=54),\n",
       " CreditEnquire(update_time='2022-04-27 11:43:35', system='HN', stock_id='2890'),\n",
       " CreditEnquire(update_time='2022-04-26 11:24:45', system='HF', stock_id='2890'),\n",
       " CreditEnquire(update_time='2022-04-25 08:56:11', system='HC', stock_id='2890'),\n",
       " CreditEnquire(update_time='2022-04-27 13:06:11', system='HE', stock_id='2890')]"
      ]
     },
     "execution_count": 2,
     "metadata": {},
     "output_type": "execute_result"
    }
   ],
   "source": [
    "contracts = [api.Contracts.Stocks['2330'],api.Contracts.Stocks['2890']]\n",
    "credit_enquires = api.credit_enquires(contracts)\n",
    "credit_enquires"
   ]
  },
  {
   "cell_type": "markdown",
   "metadata": {},
   "source": [
    "## Credit Enquires to DataFrame"
   ]
  },
  {
   "cell_type": "code",
   "execution_count": 4,
   "metadata": {},
   "outputs": [
    {
     "data": {
      "text/html": [
       "<div>\n",
       "<style scoped>\n",
       "    .dataframe tbody tr th:only-of-type {\n",
       "        vertical-align: middle;\n",
       "    }\n",
       "\n",
       "    .dataframe tbody tr th {\n",
       "        vertical-align: top;\n",
       "    }\n",
       "\n",
       "    .dataframe thead th {\n",
       "        text-align: right;\n",
       "    }\n",
       "</style>\n",
       "<table border=\"1\" class=\"dataframe\">\n",
       "  <thead>\n",
       "    <tr style=\"text-align: right;\">\n",
       "      <th></th>\n",
       "      <th>margin_unit</th>\n",
       "      <th>short_unit</th>\n",
       "      <th>stock_id</th>\n",
       "      <th>system</th>\n",
       "      <th>update_time</th>\n",
       "    </tr>\n",
       "  </thead>\n",
       "  <tbody>\n",
       "    <tr>\n",
       "      <th>0</th>\n",
       "      <td>1337</td>\n",
       "      <td>0</td>\n",
       "      <td>2330</td>\n",
       "      <td>HE</td>\n",
       "      <td>2022-04-27 13:18:41</td>\n",
       "    </tr>\n",
       "    <tr>\n",
       "      <th>1</th>\n",
       "      <td>1331</td>\n",
       "      <td>0</td>\n",
       "      <td>2330</td>\n",
       "      <td>HF</td>\n",
       "      <td>2022-04-27 13:30:05</td>\n",
       "    </tr>\n",
       "    <tr>\n",
       "      <th>2</th>\n",
       "      <td>1340</td>\n",
       "      <td>308</td>\n",
       "      <td>2330</td>\n",
       "      <td>HC</td>\n",
       "      <td>2022-04-27 13:18:41</td>\n",
       "    </tr>\n",
       "    <tr>\n",
       "      <th>3</th>\n",
       "      <td>1348</td>\n",
       "      <td>0</td>\n",
       "      <td>2330</td>\n",
       "      <td>HN</td>\n",
       "      <td>2022-04-27 13:30:09</td>\n",
       "    </tr>\n",
       "    <tr>\n",
       "      <th>4</th>\n",
       "      <td>4</td>\n",
       "      <td>54</td>\n",
       "      <td>2330</td>\n",
       "      <td>HD</td>\n",
       "      <td>2022-03-18 17:52:31</td>\n",
       "    </tr>\n",
       "    <tr>\n",
       "      <th>5</th>\n",
       "      <td>0</td>\n",
       "      <td>0</td>\n",
       "      <td>2890</td>\n",
       "      <td>HN</td>\n",
       "      <td>2022-04-27 11:43:35</td>\n",
       "    </tr>\n",
       "    <tr>\n",
       "      <th>6</th>\n",
       "      <td>0</td>\n",
       "      <td>0</td>\n",
       "      <td>2890</td>\n",
       "      <td>HF</td>\n",
       "      <td>2022-04-26 11:24:45</td>\n",
       "    </tr>\n",
       "    <tr>\n",
       "      <th>7</th>\n",
       "      <td>0</td>\n",
       "      <td>0</td>\n",
       "      <td>2890</td>\n",
       "      <td>HC</td>\n",
       "      <td>2022-04-25 08:56:11</td>\n",
       "    </tr>\n",
       "    <tr>\n",
       "      <th>8</th>\n",
       "      <td>0</td>\n",
       "      <td>0</td>\n",
       "      <td>2890</td>\n",
       "      <td>HE</td>\n",
       "      <td>2022-04-27 13:06:11</td>\n",
       "    </tr>\n",
       "  </tbody>\n",
       "</table>\n",
       "</div>"
      ],
      "text/plain": [
       "   margin_unit  short_unit stock_id system         update_time\n",
       "0         1337           0     2330     HE 2022-04-27 13:18:41\n",
       "1         1331           0     2330     HF 2022-04-27 13:30:05\n",
       "2         1340         308     2330     HC 2022-04-27 13:18:41\n",
       "3         1348           0     2330     HN 2022-04-27 13:30:09\n",
       "4            4          54     2330     HD 2022-03-18 17:52:31\n",
       "5            0           0     2890     HN 2022-04-27 11:43:35\n",
       "6            0           0     2890     HF 2022-04-26 11:24:45\n",
       "7            0           0     2890     HC 2022-04-25 08:56:11\n",
       "8            0           0     2890     HE 2022-04-27 13:06:11"
      ]
     },
     "execution_count": 4,
     "metadata": {},
     "output_type": "execute_result"
    }
   ],
   "source": [
    "import pandas as pd\n",
    "contracts = [api.Contracts.Stocks['2330'],api.Contracts.Stocks['2890']]\n",
    "credit_enquires = api.credit_enquires(contracts)\n",
    "df = pd.DataFrame(credit_enquires)\n",
    "df.update_time = pd.to_datetime(df.update_time)\n",
    "df"
   ]
  },
  {
   "cell_type": "markdown",
   "metadata": {},
   "source": [
    "> Attributes:<br>\n",
    ">\n",
    "> update_time (str): update time.<br>\n",
    "> system (str): system.<br>\n",
    "> stock_id (str): stock_id.<br>\n",
    "> margin_unit (int): margin unit.<br>\n",
    "> short_unit (int): short unit.<br>"
   ]
  },
  {
   "cell_type": "markdown",
   "metadata": {},
   "source": [
    "---\n",
    "### Prev: [Market Data / Short Stock Source](shioaji-market_data-short_stock_source.ipynb) Next: [Market Data / Scanners](shioaji-market_data-scanners.ipynb)"
   ]
  }
 ],
 "metadata": {
  "interpreter": {
   "hash": "43e799a8c0c25cc01ad6496af7769d603e839830943cc4ee57aeca70952c0fbd"
  },
  "kernelspec": {
   "display_name": "Python 3.7.12 ('python3.7')",
   "language": "python",
   "name": "python3"
  },
  "language_info": {
   "codemirror_mode": {
    "name": "ipython",
    "version": 3
   },
   "file_extension": ".py",
   "mimetype": "text/x-python",
   "name": "python",
   "nbconvert_exporter": "python",
   "pygments_lexer": "ipython3",
   "version": "3.7.12"
  },
  "orig_nbformat": 4
 },
 "nbformat": 4,
 "nbformat_minor": 2
}
