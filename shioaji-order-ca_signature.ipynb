{
 "cells": [
  {
   "cell_type": "markdown",
   "metadata": {},
   "source": [
    "## [CA & Signature](https://sinotrade.github.io/tutor/order/CA/)"
   ]
  },
  {
   "cell_type": "markdown",
   "metadata": {},
   "source": [
    "---\n",
    "### Prev: [Market Data / Scanners](shioaji-market_data-scanners.ipynb) Next: [Order / Stock](shioaji-order-stock.ipynb)"
   ]
  }
 ],
 "metadata": {
  "language_info": {
   "name": "python"
  },
  "orig_nbformat": 4
 },
 "nbformat": 4,
 "nbformat_minor": 2
}
