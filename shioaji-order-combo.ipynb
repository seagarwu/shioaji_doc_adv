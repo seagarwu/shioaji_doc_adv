{
 "cells": [
  {
   "cell_type": "markdown",
   "metadata": {},
   "source": [
    "[![Open In Colab](https://colab.research.google.com/assets/colab-badge.svg)](https://colab.research.google.com/github/seagarwu/mynotebooks/blob/main/shioaji/shioaji_onlinedoc/shioaji-order-combo.ipynb)"
   ]
  },
  {
   "cell_type": "markdown",
   "metadata": {},
   "source": [
    "# Combo"
   ]
  },
  {
   "cell_type": "markdown",
   "metadata": {},
   "source": [
    "## Place ComboOrder"
   ]
  },
  {
   "cell_type": "markdown",
   "metadata": {},
   "source": [
    "### First, you need to [login](shioaji-quick_start.ipynb) and [activate CA](shioaji-order-ca_signature.ipynb)."
   ]
  },
  {
   "cell_type": "code",
   "execution_count": 2,
   "metadata": {},
   "outputs": [
    {
     "name": "stdout",
     "output_type": "stream",
     "text": [
      "Response Code: 0 | Event Code: 0 | Info: host '203.66.91.161:80', hostname '203.66.91.161:80' IP 203.66.91.161:80 (host 1 of 1) (host connection attempt 1 of 1) (total connection attempt 1 of 1) | Event: Session up\n"
     ]
    }
   ],
   "source": [
    "import shioaji as sj\n",
    "import getpass as gp\n",
    "\n",
    "api = sj.Shioaji()\n",
    "user_id, user_pass = gp.getpass(\"USER ID: \"), gp.getpass(\"USER PASS: \")\n",
    "accounts = api.login(user_id, user_pass)"
   ]
  },
  {
   "cell_type": "code",
   "execution_count": 3,
   "metadata": {
    "id": "qWf5tBzxat8F",
    "outputId": "318558d3-1886-4b9d-c0c5-53e0710d4bb8"
   },
   "outputs": [
    {
     "data": {
      "text/plain": [
       "True"
      ]
     },
     "execution_count": 3,
     "metadata": {},
     "output_type": "execute_result"
    }
   ],
   "source": [
    "import tkinter as tk\n",
    "from tkinter import filedialog\n",
    "\n",
    "root = tk.Tk()\n",
    "root.withdraw()\n",
    "file_path = filedialog.askopenfilename()\n",
    "\n",
    "api.activate_ca(\n",
    "    ca_path = file_path,\n",
    "    ca_passwd = user_pass,\n",
    "    person_id = user_id,\n",
    ")"
   ]
  },
  {
   "cell_type": "markdown",
   "metadata": {},
   "source": [
    "### Get Combo Contract Object."
   ]
  },
  {
   "cell_type": "code",
   "execution_count": 13,
   "metadata": {
    "id": "sXCmv0oCat8f",
    "outputId": "45b5a302-2736-4c96-bcf9-8eb0e910a71b"
   },
   "outputs": [
    {
     "data": {
      "text/plain": [
       "(CAO, CBO, CCO, CDO, CEO, CFO, CGO, CHO, CJO, CKO, CLO, CMO, CNO, CQO, CRO, CSO, CZO, DCO, DEO, DFO, DGO, DHO, DJO, DKO, DLO, DNO, DOO, DPO, DQO, DSO, DVO, DWO, DXO, GIO, GXO, HCO, IJO, LOO, NYO, NZO, OAO, OBO, OCO, OJO, OKO, OOO, OZO, QBO, RHO, RTO, TEO, TFO, TGO, TX1, TXO)"
      ]
     },
     "execution_count": 13,
     "metadata": {},
     "output_type": "execute_result"
    }
   ],
   "source": [
    "# 辨識號碼一覽表: https://isin.twse.com.tw/isin/C_public.jsp?strMode=6\n",
    "# 商品簡稱及英文代碼: https://www.taifex.com.tw/cht/4/contractName1\n",
    "# Get options by code.\n",
    "api.Contracts.Options"
   ]
  },
  {
   "cell_type": "code",
   "execution_count": 14,
   "metadata": {
    "id": "n1ZF2vaZat8f",
    "outputId": "4826ecbb-6cc6-4303-ccfa-116727a370c3"
   },
   "outputs": [
    {
     "data": {
      "text/plain": [
       "TX1(TX1202205016000P, TX1202205016200P, TX1202205018100P, TX1202205016250P, TX1202205015850C, TX1202205017400C, TX1202205018200C, TX1202205018000C, TX1202205015600C, TX1202205016650P, TX1202205016550P, TX1202205015500P, TX1202205014900P, TX1202205015700C, TX1202205017050C, TX1202205016400C, TX1202205016900P, TX1202205016650C, TX1202205015600P, TX1202205017100P, TX1202205016400P, TX1202205017500P, TX1202205018000P, TX1202205016550C, TX1202205014800C, TX1202205014600C, TX1202205017000C, TX1202205018100C, TX1202205017500C, TX1202205015000P, TX1202205018400P, TX1202205016850C, TX1202205014800P, TX1202205018200P, TX1202205017900C, TX1202205018300P, TX1202205016250C, TX1202205017200P, TX1202205016150C, TX1202205016100P, TX1202205016300C, TX1202205016600C, TX1202205014700C, TX1202205014600P, TX1202205016800C, TX1202205016500C, TX1202205015300P, TX1202205016750C, TX1202205016050P, TX1202205016350P, TX1202205017400P, TX1202205016000C, TX1202205014700P, TX1202205015900P, TX1202205018400C, TX1202205015000C, TX1202205017300C, TX1202205016100C, TX1202205014900C, TX1202205015400C, TX1202205016450P, TX1202205015100P, TX1202205016950C, TX1202205015700P, TX1202205016200C, TX1202205015900C, TX1202205016700C, TX1202205016300P, TX1202205015950C, TX1202205016850P, TX1202205016600P, TX1202205015100C, TX1202205016950P, TX1202205015200P, TX1202205015200C, TX1202205016350C, TX1202205016050C, TX1202205015950P, TX1202205016700P, TX1202205015800C, TX1202205017700C, TX1202205017700P, TX1202205016800P, TX1202205017800C, TX1202205016150P, TX1202205016450C, TX1202205017600C, TX1202205017100C, TX1202205016750P, TX1202205015500C, TX1202205015800P, TX1202205017000P, TX1202205018300C, TX1202205016900C, TX1202205017900P, TX1202205016500P, TX1202205015300C, TX1202205015400P, TX1202205017050P, TX1202205017600P, TX1202205017800P, TX1202205017300P, TX1202205017200C, TX1202205015850P)"
      ]
     },
     "execution_count": 14,
     "metadata": {},
     "output_type": "execute_result"
    }
   ],
   "source": [
    "api.Contracts.Options.TX1"
   ]
  },
  {
   "cell_type": "code",
   "execution_count": 17,
   "metadata": {
    "id": "n1ZF2vaZat8f",
    "outputId": "4826ecbb-6cc6-4303-ccfa-116727a370c3"
   },
   "outputs": [
    {
     "data": {
      "text/plain": [
       "Option(code='TX114700E2', symbol='TX1202205014700C', name='臺指選擇權05W1月 14700C', category='TX1', delivery_month='202205', delivery_date='2022/05/04', strike_price=14700.0, option_right=<OptionRight.Call: 'C'>, underlying_kind='I', unit=1, limit_up=3350.0, limit_down=69.0, reference=1710.0, update_date='2022/04/29')"
      ]
     },
     "execution_count": 17,
     "metadata": {},
     "output_type": "execute_result"
    }
   ],
   "source": [
    "api.Contracts.Options.TX1.TX1202205014700C"
   ]
  },
  {
   "cell_type": "code",
   "execution_count": 20,
   "metadata": {},
   "outputs": [
    {
     "data": {
      "text/plain": [
       "ComboContract(legs=[ComboBase(security_type=<SecurityType.Option: 'OPT'>, exchange=<Exchange.TAIFEX: 'TAIFEX'>, code='TX114700E2', symbol='TX1202205014700C', name='臺指選擇權05W1月 14700C', category='TX1', delivery_month='202205', delivery_date='2022/05/04', strike_price=14700.0, option_right=<OptionRight.Call: 'C'>, underlying_kind='I', unit=1, limit_up=3350.0, limit_down=69.0, reference=1710.0, update_date='2022/04/29', action=<Action.Sell: 'Sell'>), ComboBase(security_type=<SecurityType.Option: 'OPT'>, exchange=<Exchange.TAIFEX: 'TAIFEX'>, code='TX114700Q2', symbol='TX1202205014700P', name='臺指選擇權05W1月 14700P', category='TX1', delivery_month='202205', delivery_date='2022/05/04', strike_price=14700.0, option_right=<OptionRight.Put: 'P'>, underlying_kind='I', unit=1, limit_up=1640.0, limit_down=0.1, reference=3.6, update_date='2022/04/29', action=<Action.Sell: 'Sell'>)])"
      ]
     },
     "execution_count": 20,
     "metadata": {},
     "output_type": "execute_result"
    }
   ],
   "source": [
    "c1 = api.Contracts.Options.TX1.TX1202205014700C\n",
    "c2 = api.Contracts.Options.TX1.TX1202205014700P\n",
    "combo_c = sj.contracts.ComboContract(\n",
    "    legs=[\n",
    "        sj.contracts.ComboBase(action=\"Sell\", **c1),\n",
    "        sj.contracts.ComboBase(action=\"Sell\", **c2),\n",
    "    ]\n",
    ")\n",
    "combo_c"
   ]
  },
  {
   "cell_type": "markdown",
   "metadata": {},
   "source": [
    "### Making ComboOrder Object."
   ]
  },
  {
   "cell_type": "code",
   "execution_count": 22,
   "metadata": {},
   "outputs": [
    {
     "data": {
      "text/plain": [
       "ComboOrder(price=1, quantity=1, price_type=<FuturesPriceType.LMT: 'LMT'>, order_type=<FuturesOrderType.IOC: 'IOC'>)"
      ]
     },
     "execution_count": 22,
     "metadata": {},
     "output_type": "execute_result"
    }
   ],
   "source": [
    "order = api.ComboOrder(price_type=\"LMT\", price=1, quantity=1, order_type=\"IOC\")\n",
    "order"
   ]
  },
  {
   "cell_type": "markdown",
   "metadata": {},
   "source": [
    "### Place Combo Order"
   ]
  },
  {
   "cell_type": "code",
   "execution_count": null,
   "metadata": {},
   "outputs": [],
   "source": [
    "# 會實際下單，請小心操作! (實驗時最好挑13:45到15:00之間)\n",
    "trade = api.place_comboorder(combo_c, order)"
   ]
  },
  {
   "cell_type": "markdown",
   "metadata": {},
   "source": [
    "### Cancel ComboOrder"
   ]
  },
  {
   "cell_type": "code",
   "execution_count": null,
   "metadata": {},
   "outputs": [],
   "source": [
    "api.update_combostatus()\n",
    "api.cancel_comboorder(trade)\n",
    "api.update_combostatus()"
   ]
  },
  {
   "cell_type": "markdown",
   "metadata": {},
   "source": [
    "### Update Combo Order Status"
   ]
  },
  {
   "cell_type": "code",
   "execution_count": 24,
   "metadata": {},
   "outputs": [
    {
     "data": {
      "text/plain": [
       "[]"
      ]
     },
     "execution_count": 24,
     "metadata": {},
     "output_type": "execute_result"
    }
   ],
   "source": [
    "api.update_combostatus()\n",
    "api.list_combotrades()"
   ]
  },
  {
   "cell_type": "markdown",
   "metadata": {},
   "source": [
    "---\n",
    "### Prev: [Order / Reserve Order](shioaji-order-reserve_order.ipynb) Next: [Account Data / Account & Portfolio](shioaji-account_data-account_portfolio.ipynb)"
   ]
  }
 ],
 "metadata": {
  "interpreter": {
   "hash": "43e799a8c0c25cc01ad6496af7769d603e839830943cc4ee57aeca70952c0fbd"
  },
  "kernelspec": {
   "display_name": "Python 3.7.12 ('python3.7')",
   "language": "python",
   "name": "python3"
  },
  "language_info": {
   "codemirror_mode": {
    "name": "ipython",
    "version": 3
   },
   "file_extension": ".py",
   "mimetype": "text/x-python",
   "name": "python",
   "nbconvert_exporter": "python",
   "pygments_lexer": "ipython3",
   "version": "3.7.12"
  },
  "orig_nbformat": 4
 },
 "nbformat": 4,
 "nbformat_minor": 2
}
